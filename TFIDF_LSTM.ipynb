{
  "cells": [
    {
      "cell_type": "markdown",
      "id": "1269b882",
      "metadata": {
        "id": "1269b882"
      },
      "source": [
        "# Text Classification with TF-IDF, LSTM, BERT: a comparison of performance"
      ]
    },
    {
      "cell_type": "markdown",
      "id": "fa9d3081",
      "metadata": {
        "id": "fa9d3081"
      },
      "source": [
        "While looking for information to solve a text classification problem, I could find various descriptions on how to do it; but I was missing a comparison with measurable metrics, showing the pros and cons of various methods."
      ]
    },
    {
      "cell_type": "markdown",
      "id": "b0a86784",
      "metadata": {
        "id": "b0a86784"
      },
      "source": [
        "## Introduction"
      ]
    },
    {
      "cell_type": "markdown",
      "id": "e8a307a6",
      "metadata": {
        "id": "e8a307a6"
      },
      "source": [
        "The objective of this article is to provide quantitative comparison of the algorithms, provide the Python code to make it, and basic explanations on what is being done.\n",
        "\n",
        "The algorithms will be analysed using two metrics: accuracy and running time (for learning).\n",
        "\n",
        "We will go over three text classification approaches, increasing in complexity and following the historical developments. First, we will use a \"traditional\" machine learning method, applying a linear model on the TF-IDF approach. Then we will go deep learning. We will first use a Recurrent Neural Network (RNN) method and encode words using the algorithm Word2Vec. This is a way of using pre-learned information. Finally, we will use the model BERT (or a simplified version of it, distil-BERT) and fine-tune it on our specific classification task. This approach allows the use of a pre-learned algorithm, which encodes not only words but entire sentences.\n",
        "\n",
        "Note that we will use a very basic accuracy calculation. More sophisticated approaches (f-score, macro-average) would make more sense. But the goal of this article is to better understand classification models, not accuracy scores."
      ]
    },
    {
      "cell_type": "code",
      "source": [
        "from google.colab import drive\n",
        "drive.mount('/content/drive')"
      ],
      "metadata": {
        "colab": {
          "base_uri": "https://localhost:8080/"
        },
        "id": "aZnCzt8mPN2o",
        "outputId": "062bd2bc-d0c6-4b02-e641-418ec0a0a012"
      },
      "id": "aZnCzt8mPN2o",
      "execution_count": 27,
      "outputs": [
        {
          "output_type": "stream",
          "name": "stdout",
          "text": [
            "Drive already mounted at /content/drive; to attempt to forcibly remount, call drive.mount(\"/content/drive\", force_remount=True).\n"
          ]
        }
      ]
    },
    {
      "cell_type": "markdown",
      "id": "0a3fd5b0",
      "metadata": {
        "id": "0a3fd5b0"
      },
      "source": [
        "Before starting, we need to get the libraries:"
      ]
    },
    {
      "cell_type": "code",
      "execution_count": 28,
      "id": "706ab803",
      "metadata": {
        "colab": {
          "base_uri": "https://localhost:8080/"
        },
        "id": "706ab803",
        "outputId": "b5665e2a-0483-46d5-e1bc-306710721ee2"
      },
      "outputs": [
        {
          "output_type": "stream",
          "name": "stdout",
          "text": [
            "Pandas version: 1.5.3\n",
            "Numpy version: 1.23.5\n",
            "PyPlot version: 3.7.1\n",
            "Scikit Learn version: 1.2.2\n",
            "Tensorflow version: 2.15.0\n",
            "Transformers version: 4.35.2\n",
            "Regex version: 2.2.1\n",
            "NLTK version: 3.8.1\n",
            "Gensim version: 4.3.2\n"
          ]
        }
      ],
      "source": [
        "import pandas as pd\n",
        "import numpy as np\n",
        "\n",
        "import tensorflow as tf\n",
        "from tensorflow.keras import preprocessing as kprocessing\n",
        "from tensorflow.keras import models, layers, optimizers\n",
        "\n",
        "\n",
        "import sklearn\n",
        "from sklearn.model_selection import train_test_split\n",
        "from sklearn.feature_extraction.text import CountVectorizer, TfidfVectorizer\n",
        "from sklearn.linear_model import LogisticRegression, SGDClassifier\n",
        "from sklearn.pipeline import Pipeline\n",
        "from sklearn.metrics import accuracy_score\n",
        "from sklearn.preprocessing import LabelBinarizer\n",
        "\n",
        "import transformers\n",
        "\n",
        "import matplotlib\n",
        "from matplotlib import pyplot as plt\n",
        "\n",
        "\n",
        "import re\n",
        "import nltk\n",
        "import gensim\n",
        "import gensim.downloader as api\n",
        "\n",
        "from datetime import datetime\n"
      ]
    },
    {
      "cell_type": "markdown",
      "source": [],
      "metadata": {
        "id": "Mpwxc0BVOH9S"
      },
      "id": "Mpwxc0BVOH9S"
    },
    {
      "cell_type": "markdown",
      "id": "dcbc0926",
      "metadata": {
        "id": "dcbc0926"
      },
      "source": [
        "## Get and Process the Data"
      ]
    },
    {
      "cell_type": "markdown",
      "id": "bc578ada",
      "metadata": {
        "id": "bc578ada"
      },
      "source": [
        "In this article we will consider two datasets (long texts and short texts):\n",
        "- BBC news, classified by topic: https://www.kaggle.com/sainijagjit/bbc-dataset\n",
        "- Tweets related to Corona, classified by sentiment (5 levels): https://www.kaggle.com/datatattle/covid-19-nlp-text-classification\n",
        "\n",
        "We will use the BBC news throughout this article, but the same applies to the tweets dataset. The detailed analysis below relates to the BBC news use case. A detailed analysis of the Corona corpus might lead to different conclusions, given its complexity is higher and the dataset is larger.\n",
        "\n",
        "Note that the BBC news corpus contains around 2k entries, and the Corona Tweets contain around 40k. The first dataset is therefore much faster and can be run on a standard computer, while the second dataset cannot."
      ]
    },
    {
      "cell_type": "code",
      "execution_count": 29,
      "id": "8b04106d",
      "metadata": {
        "id": "8b04106d"
      },
      "outputs": [],
      "source": [
        "# Select the dataset for the analysis\n",
        "\n",
        "dataset = 'bbc-text' # select 'bbc-text' or 'corona'"
      ]
    },
    {
      "cell_type": "code",
      "execution_count": 30,
      "id": "88897870",
      "metadata": {
        "colab": {
          "base_uri": "https://localhost:8080/",
          "height": 206
        },
        "id": "88897870",
        "outputId": "787bed8a-2812-4ae0-8723-4d080c29c47d"
      },
      "outputs": [
        {
          "output_type": "execute_result",
          "data": {
            "text/plain": [
              "        category                                               text\n",
              "0           tech  tv future in the hands of viewers with home th...\n",
              "1       business  worldcom boss  left books alone  former worldc...\n",
              "2          sport  tigers wary of farrell  gamble  leicester say ...\n",
              "3          sport  yeading face newcastle in fa cup premiership s...\n",
              "4  entertainment  ocean s twelve raids box office ocean s twelve..."
            ],
            "text/html": [
              "\n",
              "  <div id=\"df-4f0f5d88-6417-42d1-b498-c10cb01c2031\" class=\"colab-df-container\">\n",
              "    <div>\n",
              "<style scoped>\n",
              "    .dataframe tbody tr th:only-of-type {\n",
              "        vertical-align: middle;\n",
              "    }\n",
              "\n",
              "    .dataframe tbody tr th {\n",
              "        vertical-align: top;\n",
              "    }\n",
              "\n",
              "    .dataframe thead th {\n",
              "        text-align: right;\n",
              "    }\n",
              "</style>\n",
              "<table border=\"1\" class=\"dataframe\">\n",
              "  <thead>\n",
              "    <tr style=\"text-align: right;\">\n",
              "      <th></th>\n",
              "      <th>category</th>\n",
              "      <th>text</th>\n",
              "    </tr>\n",
              "  </thead>\n",
              "  <tbody>\n",
              "    <tr>\n",
              "      <th>0</th>\n",
              "      <td>tech</td>\n",
              "      <td>tv future in the hands of viewers with home th...</td>\n",
              "    </tr>\n",
              "    <tr>\n",
              "      <th>1</th>\n",
              "      <td>business</td>\n",
              "      <td>worldcom boss  left books alone  former worldc...</td>\n",
              "    </tr>\n",
              "    <tr>\n",
              "      <th>2</th>\n",
              "      <td>sport</td>\n",
              "      <td>tigers wary of farrell  gamble  leicester say ...</td>\n",
              "    </tr>\n",
              "    <tr>\n",
              "      <th>3</th>\n",
              "      <td>sport</td>\n",
              "      <td>yeading face newcastle in fa cup premiership s...</td>\n",
              "    </tr>\n",
              "    <tr>\n",
              "      <th>4</th>\n",
              "      <td>entertainment</td>\n",
              "      <td>ocean s twelve raids box office ocean s twelve...</td>\n",
              "    </tr>\n",
              "  </tbody>\n",
              "</table>\n",
              "</div>\n",
              "    <div class=\"colab-df-buttons\">\n",
              "\n",
              "  <div class=\"colab-df-container\">\n",
              "    <button class=\"colab-df-convert\" onclick=\"convertToInteractive('df-4f0f5d88-6417-42d1-b498-c10cb01c2031')\"\n",
              "            title=\"Convert this dataframe to an interactive table.\"\n",
              "            style=\"display:none;\">\n",
              "\n",
              "  <svg xmlns=\"http://www.w3.org/2000/svg\" height=\"24px\" viewBox=\"0 -960 960 960\">\n",
              "    <path d=\"M120-120v-720h720v720H120Zm60-500h600v-160H180v160Zm220 220h160v-160H400v160Zm0 220h160v-160H400v160ZM180-400h160v-160H180v160Zm440 0h160v-160H620v160ZM180-180h160v-160H180v160Zm440 0h160v-160H620v160Z\"/>\n",
              "  </svg>\n",
              "    </button>\n",
              "\n",
              "  <style>\n",
              "    .colab-df-container {\n",
              "      display:flex;\n",
              "      gap: 12px;\n",
              "    }\n",
              "\n",
              "    .colab-df-convert {\n",
              "      background-color: #E8F0FE;\n",
              "      border: none;\n",
              "      border-radius: 50%;\n",
              "      cursor: pointer;\n",
              "      display: none;\n",
              "      fill: #1967D2;\n",
              "      height: 32px;\n",
              "      padding: 0 0 0 0;\n",
              "      width: 32px;\n",
              "    }\n",
              "\n",
              "    .colab-df-convert:hover {\n",
              "      background-color: #E2EBFA;\n",
              "      box-shadow: 0px 1px 2px rgba(60, 64, 67, 0.3), 0px 1px 3px 1px rgba(60, 64, 67, 0.15);\n",
              "      fill: #174EA6;\n",
              "    }\n",
              "\n",
              "    .colab-df-buttons div {\n",
              "      margin-bottom: 4px;\n",
              "    }\n",
              "\n",
              "    [theme=dark] .colab-df-convert {\n",
              "      background-color: #3B4455;\n",
              "      fill: #D2E3FC;\n",
              "    }\n",
              "\n",
              "    [theme=dark] .colab-df-convert:hover {\n",
              "      background-color: #434B5C;\n",
              "      box-shadow: 0px 1px 3px 1px rgba(0, 0, 0, 0.15);\n",
              "      filter: drop-shadow(0px 1px 2px rgba(0, 0, 0, 0.3));\n",
              "      fill: #FFFFFF;\n",
              "    }\n",
              "  </style>\n",
              "\n",
              "    <script>\n",
              "      const buttonEl =\n",
              "        document.querySelector('#df-4f0f5d88-6417-42d1-b498-c10cb01c2031 button.colab-df-convert');\n",
              "      buttonEl.style.display =\n",
              "        google.colab.kernel.accessAllowed ? 'block' : 'none';\n",
              "\n",
              "      async function convertToInteractive(key) {\n",
              "        const element = document.querySelector('#df-4f0f5d88-6417-42d1-b498-c10cb01c2031');\n",
              "        const dataTable =\n",
              "          await google.colab.kernel.invokeFunction('convertToInteractive',\n",
              "                                                    [key], {});\n",
              "        if (!dataTable) return;\n",
              "\n",
              "        const docLinkHtml = 'Like what you see? Visit the ' +\n",
              "          '<a target=\"_blank\" href=https://colab.research.google.com/notebooks/data_table.ipynb>data table notebook</a>'\n",
              "          + ' to learn more about interactive tables.';\n",
              "        element.innerHTML = '';\n",
              "        dataTable['output_type'] = 'display_data';\n",
              "        await google.colab.output.renderOutput(dataTable, element);\n",
              "        const docLink = document.createElement('div');\n",
              "        docLink.innerHTML = docLinkHtml;\n",
              "        element.appendChild(docLink);\n",
              "      }\n",
              "    </script>\n",
              "  </div>\n",
              "\n",
              "\n",
              "<div id=\"df-a5a9c57f-641c-4ee5-806b-695b7d206db8\">\n",
              "  <button class=\"colab-df-quickchart\" onclick=\"quickchart('df-a5a9c57f-641c-4ee5-806b-695b7d206db8')\"\n",
              "            title=\"Suggest charts\"\n",
              "            style=\"display:none;\">\n",
              "\n",
              "<svg xmlns=\"http://www.w3.org/2000/svg\" height=\"24px\"viewBox=\"0 0 24 24\"\n",
              "     width=\"24px\">\n",
              "    <g>\n",
              "        <path d=\"M19 3H5c-1.1 0-2 .9-2 2v14c0 1.1.9 2 2 2h14c1.1 0 2-.9 2-2V5c0-1.1-.9-2-2-2zM9 17H7v-7h2v7zm4 0h-2V7h2v10zm4 0h-2v-4h2v4z\"/>\n",
              "    </g>\n",
              "</svg>\n",
              "  </button>\n",
              "\n",
              "<style>\n",
              "  .colab-df-quickchart {\n",
              "      --bg-color: #E8F0FE;\n",
              "      --fill-color: #1967D2;\n",
              "      --hover-bg-color: #E2EBFA;\n",
              "      --hover-fill-color: #174EA6;\n",
              "      --disabled-fill-color: #AAA;\n",
              "      --disabled-bg-color: #DDD;\n",
              "  }\n",
              "\n",
              "  [theme=dark] .colab-df-quickchart {\n",
              "      --bg-color: #3B4455;\n",
              "      --fill-color: #D2E3FC;\n",
              "      --hover-bg-color: #434B5C;\n",
              "      --hover-fill-color: #FFFFFF;\n",
              "      --disabled-bg-color: #3B4455;\n",
              "      --disabled-fill-color: #666;\n",
              "  }\n",
              "\n",
              "  .colab-df-quickchart {\n",
              "    background-color: var(--bg-color);\n",
              "    border: none;\n",
              "    border-radius: 50%;\n",
              "    cursor: pointer;\n",
              "    display: none;\n",
              "    fill: var(--fill-color);\n",
              "    height: 32px;\n",
              "    padding: 0;\n",
              "    width: 32px;\n",
              "  }\n",
              "\n",
              "  .colab-df-quickchart:hover {\n",
              "    background-color: var(--hover-bg-color);\n",
              "    box-shadow: 0 1px 2px rgba(60, 64, 67, 0.3), 0 1px 3px 1px rgba(60, 64, 67, 0.15);\n",
              "    fill: var(--button-hover-fill-color);\n",
              "  }\n",
              "\n",
              "  .colab-df-quickchart-complete:disabled,\n",
              "  .colab-df-quickchart-complete:disabled:hover {\n",
              "    background-color: var(--disabled-bg-color);\n",
              "    fill: var(--disabled-fill-color);\n",
              "    box-shadow: none;\n",
              "  }\n",
              "\n",
              "  .colab-df-spinner {\n",
              "    border: 2px solid var(--fill-color);\n",
              "    border-color: transparent;\n",
              "    border-bottom-color: var(--fill-color);\n",
              "    animation:\n",
              "      spin 1s steps(1) infinite;\n",
              "  }\n",
              "\n",
              "  @keyframes spin {\n",
              "    0% {\n",
              "      border-color: transparent;\n",
              "      border-bottom-color: var(--fill-color);\n",
              "      border-left-color: var(--fill-color);\n",
              "    }\n",
              "    20% {\n",
              "      border-color: transparent;\n",
              "      border-left-color: var(--fill-color);\n",
              "      border-top-color: var(--fill-color);\n",
              "    }\n",
              "    30% {\n",
              "      border-color: transparent;\n",
              "      border-left-color: var(--fill-color);\n",
              "      border-top-color: var(--fill-color);\n",
              "      border-right-color: var(--fill-color);\n",
              "    }\n",
              "    40% {\n",
              "      border-color: transparent;\n",
              "      border-right-color: var(--fill-color);\n",
              "      border-top-color: var(--fill-color);\n",
              "    }\n",
              "    60% {\n",
              "      border-color: transparent;\n",
              "      border-right-color: var(--fill-color);\n",
              "    }\n",
              "    80% {\n",
              "      border-color: transparent;\n",
              "      border-right-color: var(--fill-color);\n",
              "      border-bottom-color: var(--fill-color);\n",
              "    }\n",
              "    90% {\n",
              "      border-color: transparent;\n",
              "      border-bottom-color: var(--fill-color);\n",
              "    }\n",
              "  }\n",
              "</style>\n",
              "\n",
              "  <script>\n",
              "    async function quickchart(key) {\n",
              "      const quickchartButtonEl =\n",
              "        document.querySelector('#' + key + ' button');\n",
              "      quickchartButtonEl.disabled = true;  // To prevent multiple clicks.\n",
              "      quickchartButtonEl.classList.add('colab-df-spinner');\n",
              "      try {\n",
              "        const charts = await google.colab.kernel.invokeFunction(\n",
              "            'suggestCharts', [key], {});\n",
              "      } catch (error) {\n",
              "        console.error('Error during call to suggestCharts:', error);\n",
              "      }\n",
              "      quickchartButtonEl.classList.remove('colab-df-spinner');\n",
              "      quickchartButtonEl.classList.add('colab-df-quickchart-complete');\n",
              "    }\n",
              "    (() => {\n",
              "      let quickchartButtonEl =\n",
              "        document.querySelector('#df-a5a9c57f-641c-4ee5-806b-695b7d206db8 button');\n",
              "      quickchartButtonEl.style.display =\n",
              "        google.colab.kernel.accessAllowed ? 'block' : 'none';\n",
              "    })();\n",
              "  </script>\n",
              "</div>\n",
              "    </div>\n",
              "  </div>\n"
            ]
          },
          "metadata": {},
          "execution_count": 30
        }
      ],
      "source": [
        "if dataset=='bbc-text':\n",
        "    datapath = \"/content/drive/MyDrive/data/bbc-text.csv\"\n",
        "if dataset=='corona':\n",
        "    datapath=\"/content/drive/MyDrive/data/bbc-text.csv\"\n",
        "\n",
        "df = pd.read_csv(datapath)\n",
        "\n",
        "if dataset=='corona':\n",
        "    df.rename(columns={\"Sentiment\": \"category\", \"OriginalTweet\": \"text\"}, inplace=True)\n",
        "\n",
        "df = df[[\"category\", \"text\"]]\n",
        "\n",
        "# Show the data\n",
        "df.head()"
      ]
    },
    {
      "cell_type": "markdown",
      "id": "84910f11",
      "metadata": {
        "id": "84910f11"
      },
      "source": [
        "### Analyze Data"
      ]
    },
    {
      "cell_type": "markdown",
      "id": "169be0dc",
      "metadata": {
        "id": "169be0dc"
      },
      "source": [
        "Let's look at what we get."
      ]
    },
    {
      "cell_type": "code",
      "execution_count": 31,
      "id": "4da7995b",
      "metadata": {
        "id": "4da7995b",
        "colab": {
          "base_uri": "https://localhost:8080/"
        },
        "outputId": "31b739af-2223-4ac8-bba1-af9995a06354"
      },
      "outputs": [
        {
          "output_type": "stream",
          "name": "stdout",
          "text": [
            "Total number of news: 2225\n",
            "----------------------------------------\n",
            "Split by category:\n",
            "sport            511\n",
            "business         510\n",
            "politics         417\n",
            "tech             401\n",
            "entertainment    386\n",
            "Name: category, dtype: int64\n",
            "----------------------------------------\n",
            "Number of categories: 5\n"
          ]
        }
      ],
      "source": [
        "print('Total number of news: {}'.format(len(df)))\n",
        "print(40*'-')\n",
        "print('Split by category:')\n",
        "print(df[\"category\"].value_counts())\n",
        "print(40*'-')\n",
        "nr_categories = len(df[\"category\"].unique())\n",
        "print(\"Number of categories: {n}\".format(n=nr_categories))"
      ]
    },
    {
      "cell_type": "markdown",
      "id": "d8c7c87a",
      "metadata": {
        "id": "d8c7c87a"
      },
      "source": [
        "We get a total number of entries of 2'225, which are relatively evenly split across five categories.\n",
        "\n",
        "In case the split across categories is imbalanced, there are techniques to \"correct\" this by over-weighting the data with an under-represented category. For this, you can refer to: https://scikit-learn.org/stable/modules/generated/sklearn.utils.class_weight.compute_class_weight.html"
      ]
    },
    {
      "cell_type": "markdown",
      "id": "9e66c229",
      "metadata": {
        "id": "9e66c229"
      },
      "source": [
        "Finally, let's look at a specific example to get a concrete impression:"
      ]
    },
    {
      "cell_type": "code",
      "execution_count": 32,
      "id": "46770c9e",
      "metadata": {
        "id": "46770c9e",
        "colab": {
          "base_uri": "https://localhost:8080/"
        },
        "outputId": "5ec2c03b-5f13-4be4-a06e-45fc090146cd"
      },
      "outputs": [
        {
          "output_type": "stream",
          "name": "stdout",
          "text": [
            "Category:  entertainment\n",
            "----------------------------------------------------------------------------------------------------\n",
            "Text:\n",
            "housewives lift channel 4 ratings the debut of us television hit desperate housewives has helped lift channel 4 s january audience share by 12% compared to last year.  other successes such as celebrity big brother and the simpsons have enabled the broadcaster to surpass bbc two for the first month since last july. bbc two s share of the audience fell from 11.2% to 9.6% last month in comparison with january 2004. celebrity big brother attracted fewer viewers than its 2002 series.  comedy drama desperate housewives managed to pull in five million viewers at one point during its run to date  attracting a quarter of the television audience. the two main television channels  bbc1 and itv1  have both seen their monthly audience share decline in a year on year comparison for january  while five s proportion remained the same at a slender 6.3%. digital multi-channel tv is continuing to be the strongest area of growth  with the bbc reporting freeview box ownership of five million  including one million sales in the last portion of 2004. its share of the audience soared by 20% in january 2005 compared with last year  and currently stands at an average of 28.6%.\n"
          ]
        }
      ],
      "source": [
        "# You can adjust n:\n",
        "n=100\n",
        "print('Category: ',df['category'][n])\n",
        "print(100*'-')\n",
        "print('Text:')\n",
        "print(df['text'][n])"
      ]
    },
    {
      "cell_type": "markdown",
      "id": "faccb10d",
      "metadata": {
        "id": "faccb10d"
      },
      "source": [
        "### Prepare Data"
      ]
    },
    {
      "cell_type": "markdown",
      "id": "e031517b",
      "metadata": {
        "id": "e031517b"
      },
      "source": [
        "Some algorithms (RNN and based on BERT) are fed with the original text. But for the TF-IDF algorithm we need to pre-process the data.\n",
        "\n",
        "We pre-process the data with the help of specialized libraries. We introduce a function that will allow to:\n",
        "- convert to lower cases, remove special characters, ...\n",
        "- tokenize (i.e. convert from strings to lists of words)\n",
        "- remove stopwords (i.e. remove common words that bring noise to the system, like 'a', 'the', ...)\n",
        "- stemm (i.e. remove -ing, -ly, ..., like convert 'making' to 'make', so that words with same meaning are identified as being the same)\n",
        "- lemmatize (i.e convert the word into a root word, for example 'feet' becomes 'foot')"
      ]
    },
    {
      "cell_type": "code",
      "execution_count": 33,
      "id": "088678cd",
      "metadata": {
        "id": "088678cd",
        "colab": {
          "base_uri": "https://localhost:8080/"
        },
        "outputId": "ce8902f3-0cce-4ce9-ec8a-24712838c7bf"
      },
      "outputs": [
        {
          "output_type": "stream",
          "name": "stderr",
          "text": [
            "[nltk_data] Downloading package stopwords to /root/nltk_data...\n",
            "[nltk_data]   Package stopwords is already up-to-date!\n"
          ]
        }
      ],
      "source": [
        "# Reference: Text Classification with NLP: Tf-Idf vs Word2Vec vs BERT from Medium\n",
        "nltk.download('stopwords')\n",
        "# Use stopwords list from nltk (that is used in the function below)\n",
        "lst_stopwords = nltk.corpus.stopwords.words(\"english\")\n",
        "\n",
        "def utils_preprocess_text(text, flg_stemm=False, flg_lemm=True, lst_stopwords=None):\n",
        "    # Clean (convert to lowercase and remove punctuations and characters and then strip)\n",
        "    # The function is not optimized for speed but split into various steps for pedagogical purpose\n",
        "    text = str(text).lower()\n",
        "    text = text.strip()\n",
        "    text = re.sub(r'[^\\w\\s]', '', text)\n",
        "\n",
        "    # Tokenize (convert from string to list)\n",
        "    lst_text = text.split()\n",
        "    # remove Stopwords\n",
        "    if lst_stopwords is not None:\n",
        "        lst_text = [word for word in lst_text if word not in lst_stopwords]\n",
        "\n",
        "    # Stemming (remove -ing, -ly, ...)\n",
        "    if flg_stemm == True:\n",
        "        ps = nltk.stem.porter.PorterStemmer()\n",
        "        lst_text = [ps.stem(word) for word in lst_text]\n",
        "\n",
        "    # Lemmatisation (convert the word into root word)\n",
        "    if flg_lemm == True:\n",
        "        lem = nltk.stem.wordnet.WordNetLemmatizer()\n",
        "        lst_text = [lem.lemmatize(word) for word in lst_text]\n",
        "\n",
        "    # back to string from list\n",
        "    text = \" \".join(lst_text)\n",
        "    return text"
      ]
    },
    {
      "cell_type": "code",
      "execution_count": 34,
      "id": "5c771308",
      "metadata": {
        "id": "5c771308",
        "colab": {
          "base_uri": "https://localhost:8080/",
          "height": 243
        },
        "outputId": "8f008b0e-a190-468c-d126-cd1f67610734"
      },
      "outputs": [
        {
          "output_type": "stream",
          "name": "stderr",
          "text": [
            "[nltk_data] Downloading package wordnet to /root/nltk_data...\n",
            "[nltk_data]   Package wordnet is already up-to-date!\n"
          ]
        },
        {
          "output_type": "execute_result",
          "data": {
            "text/plain": [
              "        category                                               text  \\\n",
              "0           tech  tv future in the hands of viewers with home th...   \n",
              "1       business  worldcom boss  left books alone  former worldc...   \n",
              "2          sport  tigers wary of farrell  gamble  leicester say ...   \n",
              "3          sport  yeading face newcastle in fa cup premiership s...   \n",
              "4  entertainment  ocean s twelve raids box office ocean s twelve...   \n",
              "\n",
              "                                          text_clean  \n",
              "0  tv future hand viewer home theatre system plas...  \n",
              "1  worldcom bos left book alone former worldcom b...  \n",
              "2  tiger wary farrell gamble leicester say rushed...  \n",
              "3  yeading face newcastle fa cup premiership side...  \n",
              "4  ocean twelve raid box office ocean twelve crim...  "
            ],
            "text/html": [
              "\n",
              "  <div id=\"df-085497a4-bc93-457e-8a23-1a8cacc68187\" class=\"colab-df-container\">\n",
              "    <div>\n",
              "<style scoped>\n",
              "    .dataframe tbody tr th:only-of-type {\n",
              "        vertical-align: middle;\n",
              "    }\n",
              "\n",
              "    .dataframe tbody tr th {\n",
              "        vertical-align: top;\n",
              "    }\n",
              "\n",
              "    .dataframe thead th {\n",
              "        text-align: right;\n",
              "    }\n",
              "</style>\n",
              "<table border=\"1\" class=\"dataframe\">\n",
              "  <thead>\n",
              "    <tr style=\"text-align: right;\">\n",
              "      <th></th>\n",
              "      <th>category</th>\n",
              "      <th>text</th>\n",
              "      <th>text_clean</th>\n",
              "    </tr>\n",
              "  </thead>\n",
              "  <tbody>\n",
              "    <tr>\n",
              "      <th>0</th>\n",
              "      <td>tech</td>\n",
              "      <td>tv future in the hands of viewers with home th...</td>\n",
              "      <td>tv future hand viewer home theatre system plas...</td>\n",
              "    </tr>\n",
              "    <tr>\n",
              "      <th>1</th>\n",
              "      <td>business</td>\n",
              "      <td>worldcom boss  left books alone  former worldc...</td>\n",
              "      <td>worldcom bos left book alone former worldcom b...</td>\n",
              "    </tr>\n",
              "    <tr>\n",
              "      <th>2</th>\n",
              "      <td>sport</td>\n",
              "      <td>tigers wary of farrell  gamble  leicester say ...</td>\n",
              "      <td>tiger wary farrell gamble leicester say rushed...</td>\n",
              "    </tr>\n",
              "    <tr>\n",
              "      <th>3</th>\n",
              "      <td>sport</td>\n",
              "      <td>yeading face newcastle in fa cup premiership s...</td>\n",
              "      <td>yeading face newcastle fa cup premiership side...</td>\n",
              "    </tr>\n",
              "    <tr>\n",
              "      <th>4</th>\n",
              "      <td>entertainment</td>\n",
              "      <td>ocean s twelve raids box office ocean s twelve...</td>\n",
              "      <td>ocean twelve raid box office ocean twelve crim...</td>\n",
              "    </tr>\n",
              "  </tbody>\n",
              "</table>\n",
              "</div>\n",
              "    <div class=\"colab-df-buttons\">\n",
              "\n",
              "  <div class=\"colab-df-container\">\n",
              "    <button class=\"colab-df-convert\" onclick=\"convertToInteractive('df-085497a4-bc93-457e-8a23-1a8cacc68187')\"\n",
              "            title=\"Convert this dataframe to an interactive table.\"\n",
              "            style=\"display:none;\">\n",
              "\n",
              "  <svg xmlns=\"http://www.w3.org/2000/svg\" height=\"24px\" viewBox=\"0 -960 960 960\">\n",
              "    <path d=\"M120-120v-720h720v720H120Zm60-500h600v-160H180v160Zm220 220h160v-160H400v160Zm0 220h160v-160H400v160ZM180-400h160v-160H180v160Zm440 0h160v-160H620v160ZM180-180h160v-160H180v160Zm440 0h160v-160H620v160Z\"/>\n",
              "  </svg>\n",
              "    </button>\n",
              "\n",
              "  <style>\n",
              "    .colab-df-container {\n",
              "      display:flex;\n",
              "      gap: 12px;\n",
              "    }\n",
              "\n",
              "    .colab-df-convert {\n",
              "      background-color: #E8F0FE;\n",
              "      border: none;\n",
              "      border-radius: 50%;\n",
              "      cursor: pointer;\n",
              "      display: none;\n",
              "      fill: #1967D2;\n",
              "      height: 32px;\n",
              "      padding: 0 0 0 0;\n",
              "      width: 32px;\n",
              "    }\n",
              "\n",
              "    .colab-df-convert:hover {\n",
              "      background-color: #E2EBFA;\n",
              "      box-shadow: 0px 1px 2px rgba(60, 64, 67, 0.3), 0px 1px 3px 1px rgba(60, 64, 67, 0.15);\n",
              "      fill: #174EA6;\n",
              "    }\n",
              "\n",
              "    .colab-df-buttons div {\n",
              "      margin-bottom: 4px;\n",
              "    }\n",
              "\n",
              "    [theme=dark] .colab-df-convert {\n",
              "      background-color: #3B4455;\n",
              "      fill: #D2E3FC;\n",
              "    }\n",
              "\n",
              "    [theme=dark] .colab-df-convert:hover {\n",
              "      background-color: #434B5C;\n",
              "      box-shadow: 0px 1px 3px 1px rgba(0, 0, 0, 0.15);\n",
              "      filter: drop-shadow(0px 1px 2px rgba(0, 0, 0, 0.3));\n",
              "      fill: #FFFFFF;\n",
              "    }\n",
              "  </style>\n",
              "\n",
              "    <script>\n",
              "      const buttonEl =\n",
              "        document.querySelector('#df-085497a4-bc93-457e-8a23-1a8cacc68187 button.colab-df-convert');\n",
              "      buttonEl.style.display =\n",
              "        google.colab.kernel.accessAllowed ? 'block' : 'none';\n",
              "\n",
              "      async function convertToInteractive(key) {\n",
              "        const element = document.querySelector('#df-085497a4-bc93-457e-8a23-1a8cacc68187');\n",
              "        const dataTable =\n",
              "          await google.colab.kernel.invokeFunction('convertToInteractive',\n",
              "                                                    [key], {});\n",
              "        if (!dataTable) return;\n",
              "\n",
              "        const docLinkHtml = 'Like what you see? Visit the ' +\n",
              "          '<a target=\"_blank\" href=https://colab.research.google.com/notebooks/data_table.ipynb>data table notebook</a>'\n",
              "          + ' to learn more about interactive tables.';\n",
              "        element.innerHTML = '';\n",
              "        dataTable['output_type'] = 'display_data';\n",
              "        await google.colab.output.renderOutput(dataTable, element);\n",
              "        const docLink = document.createElement('div');\n",
              "        docLink.innerHTML = docLinkHtml;\n",
              "        element.appendChild(docLink);\n",
              "      }\n",
              "    </script>\n",
              "  </div>\n",
              "\n",
              "\n",
              "<div id=\"df-d69fcb71-bbc0-4575-a973-a00579ed76bc\">\n",
              "  <button class=\"colab-df-quickchart\" onclick=\"quickchart('df-d69fcb71-bbc0-4575-a973-a00579ed76bc')\"\n",
              "            title=\"Suggest charts\"\n",
              "            style=\"display:none;\">\n",
              "\n",
              "<svg xmlns=\"http://www.w3.org/2000/svg\" height=\"24px\"viewBox=\"0 0 24 24\"\n",
              "     width=\"24px\">\n",
              "    <g>\n",
              "        <path d=\"M19 3H5c-1.1 0-2 .9-2 2v14c0 1.1.9 2 2 2h14c1.1 0 2-.9 2-2V5c0-1.1-.9-2-2-2zM9 17H7v-7h2v7zm4 0h-2V7h2v10zm4 0h-2v-4h2v4z\"/>\n",
              "    </g>\n",
              "</svg>\n",
              "  </button>\n",
              "\n",
              "<style>\n",
              "  .colab-df-quickchart {\n",
              "      --bg-color: #E8F0FE;\n",
              "      --fill-color: #1967D2;\n",
              "      --hover-bg-color: #E2EBFA;\n",
              "      --hover-fill-color: #174EA6;\n",
              "      --disabled-fill-color: #AAA;\n",
              "      --disabled-bg-color: #DDD;\n",
              "  }\n",
              "\n",
              "  [theme=dark] .colab-df-quickchart {\n",
              "      --bg-color: #3B4455;\n",
              "      --fill-color: #D2E3FC;\n",
              "      --hover-bg-color: #434B5C;\n",
              "      --hover-fill-color: #FFFFFF;\n",
              "      --disabled-bg-color: #3B4455;\n",
              "      --disabled-fill-color: #666;\n",
              "  }\n",
              "\n",
              "  .colab-df-quickchart {\n",
              "    background-color: var(--bg-color);\n",
              "    border: none;\n",
              "    border-radius: 50%;\n",
              "    cursor: pointer;\n",
              "    display: none;\n",
              "    fill: var(--fill-color);\n",
              "    height: 32px;\n",
              "    padding: 0;\n",
              "    width: 32px;\n",
              "  }\n",
              "\n",
              "  .colab-df-quickchart:hover {\n",
              "    background-color: var(--hover-bg-color);\n",
              "    box-shadow: 0 1px 2px rgba(60, 64, 67, 0.3), 0 1px 3px 1px rgba(60, 64, 67, 0.15);\n",
              "    fill: var(--button-hover-fill-color);\n",
              "  }\n",
              "\n",
              "  .colab-df-quickchart-complete:disabled,\n",
              "  .colab-df-quickchart-complete:disabled:hover {\n",
              "    background-color: var(--disabled-bg-color);\n",
              "    fill: var(--disabled-fill-color);\n",
              "    box-shadow: none;\n",
              "  }\n",
              "\n",
              "  .colab-df-spinner {\n",
              "    border: 2px solid var(--fill-color);\n",
              "    border-color: transparent;\n",
              "    border-bottom-color: var(--fill-color);\n",
              "    animation:\n",
              "      spin 1s steps(1) infinite;\n",
              "  }\n",
              "\n",
              "  @keyframes spin {\n",
              "    0% {\n",
              "      border-color: transparent;\n",
              "      border-bottom-color: var(--fill-color);\n",
              "      border-left-color: var(--fill-color);\n",
              "    }\n",
              "    20% {\n",
              "      border-color: transparent;\n",
              "      border-left-color: var(--fill-color);\n",
              "      border-top-color: var(--fill-color);\n",
              "    }\n",
              "    30% {\n",
              "      border-color: transparent;\n",
              "      border-left-color: var(--fill-color);\n",
              "      border-top-color: var(--fill-color);\n",
              "      border-right-color: var(--fill-color);\n",
              "    }\n",
              "    40% {\n",
              "      border-color: transparent;\n",
              "      border-right-color: var(--fill-color);\n",
              "      border-top-color: var(--fill-color);\n",
              "    }\n",
              "    60% {\n",
              "      border-color: transparent;\n",
              "      border-right-color: var(--fill-color);\n",
              "    }\n",
              "    80% {\n",
              "      border-color: transparent;\n",
              "      border-right-color: var(--fill-color);\n",
              "      border-bottom-color: var(--fill-color);\n",
              "    }\n",
              "    90% {\n",
              "      border-color: transparent;\n",
              "      border-bottom-color: var(--fill-color);\n",
              "    }\n",
              "  }\n",
              "</style>\n",
              "\n",
              "  <script>\n",
              "    async function quickchart(key) {\n",
              "      const quickchartButtonEl =\n",
              "        document.querySelector('#' + key + ' button');\n",
              "      quickchartButtonEl.disabled = true;  // To prevent multiple clicks.\n",
              "      quickchartButtonEl.classList.add('colab-df-spinner');\n",
              "      try {\n",
              "        const charts = await google.colab.kernel.invokeFunction(\n",
              "            'suggestCharts', [key], {});\n",
              "      } catch (error) {\n",
              "        console.error('Error during call to suggestCharts:', error);\n",
              "      }\n",
              "      quickchartButtonEl.classList.remove('colab-df-spinner');\n",
              "      quickchartButtonEl.classList.add('colab-df-quickchart-complete');\n",
              "    }\n",
              "    (() => {\n",
              "      let quickchartButtonEl =\n",
              "        document.querySelector('#df-d69fcb71-bbc0-4575-a973-a00579ed76bc button');\n",
              "      quickchartButtonEl.style.display =\n",
              "        google.colab.kernel.accessAllowed ? 'block' : 'none';\n",
              "    })();\n",
              "  </script>\n",
              "</div>\n",
              "    </div>\n",
              "  </div>\n"
            ]
          },
          "metadata": {},
          "execution_count": 34
        }
      ],
      "source": [
        "# Let's apply this function to the whole corpus\n",
        "nltk.download('wordnet')\n",
        "df[\"text_clean\"] = df[\"text\"].apply(lambda x: utils_preprocess_text(x, flg_stemm=False, flg_lemm=True, lst_stopwords=lst_stopwords))\n",
        "\n",
        "# Let's look at the output\n",
        "df.head()"
      ]
    },
    {
      "cell_type": "markdown",
      "id": "ecff5598",
      "metadata": {
        "id": "ecff5598"
      },
      "source": [
        "The pre-processing makes the text less readable for a human but more readable for a machine!"
      ]
    },
    {
      "cell_type": "markdown",
      "id": "b6b78c06",
      "metadata": {
        "id": "b6b78c06"
      },
      "source": [
        "### Split into Train and Test data"
      ]
    },
    {
      "cell_type": "markdown",
      "id": "8cb5b68a",
      "metadata": {
        "id": "8cb5b68a"
      },
      "source": [
        "As a next step, in order to assess the accuracy of the algorithm, we need to split the dataset into a training dataset (to train the model) and a test dataset (to assess the model). This is done with standard tools. We split 70/30, as is standard for relatively small datasets.\n",
        "\n",
        "We rename the input (text) to X and the output (category) to y, to be aligned with standard notations in machine learning.\n",
        "\n",
        "The dataset is relatively small. Therefore it makes sense to create training/test sets that are representative of the dataset. We do it by splitting such that the number of dataset per category is similar. To understand this, think about forecasts for an election: you also need to take a sample that is representative of the population (representative by gender, age, ...)"
      ]
    },
    {
      "cell_type": "code",
      "execution_count": 35,
      "id": "8d0606a6",
      "metadata": {
        "id": "8d0606a6"
      },
      "outputs": [],
      "source": [
        "# Renaming, Input -> X, Output -> y\n",
        "X = df['text_clean']\n",
        "y = df['category']"
      ]
    },
    {
      "cell_type": "code",
      "execution_count": 36,
      "id": "ec916741",
      "metadata": {
        "id": "ec916741"
      },
      "outputs": [],
      "source": [
        "# Split into Training and Test sets\n",
        "X_train, X_test, y_train, y_test = train_test_split(X, y, test_size=0.3, random_state=42, stratify=df['category'])"
      ]
    },
    {
      "cell_type": "markdown",
      "id": "a2624f37",
      "metadata": {
        "id": "a2624f37"
      },
      "source": [
        "Let's look at the split by category: you can see that both the training and test sets are representative of the dataset."
      ]
    },
    {
      "cell_type": "code",
      "execution_count": 37,
      "id": "d97436f9",
      "metadata": {
        "id": "d97436f9",
        "colab": {
          "base_uri": "https://localhost:8080/"
        },
        "outputId": "eedaf623-2fd8-4201-d447-5314d94bc74b"
      },
      "outputs": [
        {
          "output_type": "execute_result",
          "data": {
            "text/plain": [
              "sport            0.698630\n",
              "business         0.700000\n",
              "politics         0.700240\n",
              "tech             0.700748\n",
              "entertainment    0.699482\n",
              "Name: category, dtype: float64"
            ]
          },
          "metadata": {},
          "execution_count": 37
        }
      ],
      "source": [
        "y_train.value_counts()/y.value_counts()"
      ]
    },
    {
      "cell_type": "markdown",
      "id": "f6485609",
      "metadata": {
        "id": "f6485609"
      },
      "source": [
        "## TF-IDF Model"
      ]
    },
    {
      "cell_type": "markdown",
      "id": "7b7f9d0c",
      "metadata": {
        "id": "7b7f9d0c"
      },
      "source": [
        "The TF-IDF model (Term Frequency - Inverse Document Frequency) models a text by counting how often a word (called uni-gram), or a combination of two words (two successive words, called bi-gram), or even more (n-gram), appears in the text. This leads to the \"term frequency\". It is then divided by the document frequency, which counts how often a word appears across all entries (i.e. all documents). The last step allows to underweight words which appear more often, and overweight words which appear rarely.\n",
        "\n",
        "The TF-IDF model does not take into account the order of the words (except for two successive words) and belongs therefore to the family of models called \"Bag of Words\". We will see later models which take the order of words into account.\n",
        "\n",
        "To convert text into this format, we \"vectorize\" the text into a vector. When doing this we specify the size of the vocabulary (i.e. the total number of words taken into consideration), and the n-gram range. Then a word (and a word pair in case of bi-grams) is represented by a vector of the size of the vocabulary and has values in only one element, the others being all zero. This is called a one-hot vector.\n",
        "\n",
        "After having initialized the vectorizer, we fit it on the entire training set."
      ]
    },
    {
      "cell_type": "code",
      "execution_count": 38,
      "id": "8a4da929",
      "metadata": {
        "id": "8a4da929",
        "colab": {
          "base_uri": "https://localhost:8080/",
          "height": 75
        },
        "outputId": "8f24302b-b032-4036-d99b-dc8ffe855712"
      },
      "outputs": [
        {
          "output_type": "execute_result",
          "data": {
            "text/plain": [
              "TfidfVectorizer(max_features=15000, ngram_range=(1, 2))"
            ],
            "text/html": [
              "<style>#sk-container-id-1 {color: black;background-color: white;}#sk-container-id-1 pre{padding: 0;}#sk-container-id-1 div.sk-toggleable {background-color: white;}#sk-container-id-1 label.sk-toggleable__label {cursor: pointer;display: block;width: 100%;margin-bottom: 0;padding: 0.3em;box-sizing: border-box;text-align: center;}#sk-container-id-1 label.sk-toggleable__label-arrow:before {content: \"▸\";float: left;margin-right: 0.25em;color: #696969;}#sk-container-id-1 label.sk-toggleable__label-arrow:hover:before {color: black;}#sk-container-id-1 div.sk-estimator:hover label.sk-toggleable__label-arrow:before {color: black;}#sk-container-id-1 div.sk-toggleable__content {max-height: 0;max-width: 0;overflow: hidden;text-align: left;background-color: #f0f8ff;}#sk-container-id-1 div.sk-toggleable__content pre {margin: 0.2em;color: black;border-radius: 0.25em;background-color: #f0f8ff;}#sk-container-id-1 input.sk-toggleable__control:checked~div.sk-toggleable__content {max-height: 200px;max-width: 100%;overflow: auto;}#sk-container-id-1 input.sk-toggleable__control:checked~label.sk-toggleable__label-arrow:before {content: \"▾\";}#sk-container-id-1 div.sk-estimator input.sk-toggleable__control:checked~label.sk-toggleable__label {background-color: #d4ebff;}#sk-container-id-1 div.sk-label input.sk-toggleable__control:checked~label.sk-toggleable__label {background-color: #d4ebff;}#sk-container-id-1 input.sk-hidden--visually {border: 0;clip: rect(1px 1px 1px 1px);clip: rect(1px, 1px, 1px, 1px);height: 1px;margin: -1px;overflow: hidden;padding: 0;position: absolute;width: 1px;}#sk-container-id-1 div.sk-estimator {font-family: monospace;background-color: #f0f8ff;border: 1px dotted black;border-radius: 0.25em;box-sizing: border-box;margin-bottom: 0.5em;}#sk-container-id-1 div.sk-estimator:hover {background-color: #d4ebff;}#sk-container-id-1 div.sk-parallel-item::after {content: \"\";width: 100%;border-bottom: 1px solid gray;flex-grow: 1;}#sk-container-id-1 div.sk-label:hover label.sk-toggleable__label {background-color: #d4ebff;}#sk-container-id-1 div.sk-serial::before {content: \"\";position: absolute;border-left: 1px solid gray;box-sizing: border-box;top: 0;bottom: 0;left: 50%;z-index: 0;}#sk-container-id-1 div.sk-serial {display: flex;flex-direction: column;align-items: center;background-color: white;padding-right: 0.2em;padding-left: 0.2em;position: relative;}#sk-container-id-1 div.sk-item {position: relative;z-index: 1;}#sk-container-id-1 div.sk-parallel {display: flex;align-items: stretch;justify-content: center;background-color: white;position: relative;}#sk-container-id-1 div.sk-item::before, #sk-container-id-1 div.sk-parallel-item::before {content: \"\";position: absolute;border-left: 1px solid gray;box-sizing: border-box;top: 0;bottom: 0;left: 50%;z-index: -1;}#sk-container-id-1 div.sk-parallel-item {display: flex;flex-direction: column;z-index: 1;position: relative;background-color: white;}#sk-container-id-1 div.sk-parallel-item:first-child::after {align-self: flex-end;width: 50%;}#sk-container-id-1 div.sk-parallel-item:last-child::after {align-self: flex-start;width: 50%;}#sk-container-id-1 div.sk-parallel-item:only-child::after {width: 0;}#sk-container-id-1 div.sk-dashed-wrapped {border: 1px dashed gray;margin: 0 0.4em 0.5em 0.4em;box-sizing: border-box;padding-bottom: 0.4em;background-color: white;}#sk-container-id-1 div.sk-label label {font-family: monospace;font-weight: bold;display: inline-block;line-height: 1.2em;}#sk-container-id-1 div.sk-label-container {text-align: center;}#sk-container-id-1 div.sk-container {/* jupyter's `normalize.less` sets `[hidden] { display: none; }` but bootstrap.min.css set `[hidden] { display: none !important; }` so we also need the `!important` here to be able to override the default hidden behavior on the sphinx rendered scikit-learn.org. See: https://github.com/scikit-learn/scikit-learn/issues/21755 */display: inline-block !important;position: relative;}#sk-container-id-1 div.sk-text-repr-fallback {display: none;}</style><div id=\"sk-container-id-1\" class=\"sk-top-container\"><div class=\"sk-text-repr-fallback\"><pre>TfidfVectorizer(max_features=15000, ngram_range=(1, 2))</pre><b>In a Jupyter environment, please rerun this cell to show the HTML representation or trust the notebook. <br />On GitHub, the HTML representation is unable to render, please try loading this page with nbviewer.org.</b></div><div class=\"sk-container\" hidden><div class=\"sk-item\"><div class=\"sk-estimator sk-toggleable\"><input class=\"sk-toggleable__control sk-hidden--visually\" id=\"sk-estimator-id-1\" type=\"checkbox\" checked><label for=\"sk-estimator-id-1\" class=\"sk-toggleable__label sk-toggleable__label-arrow\">TfidfVectorizer</label><div class=\"sk-toggleable__content\"><pre>TfidfVectorizer(max_features=15000, ngram_range=(1, 2))</pre></div></div></div></div></div>"
            ]
          },
          "metadata": {},
          "execution_count": 38
        }
      ],
      "source": [
        "corpus = X_train\n",
        "# Initizalize the vectorizer with max nr words and ngrams (1: single words, 2: two words in a row)\n",
        "vectorizer_tfidf = TfidfVectorizer(max_features=15000, ngram_range=(1,2))\n",
        "# Fit the vectorizer to the training data\n",
        "vectorizer_tfidf.fit(corpus)"
      ]
    },
    {
      "cell_type": "markdown",
      "id": "153e738d",
      "metadata": {
        "id": "153e738d"
      },
      "source": [
        "Let's build the model. After an entry is converted to a vector using the vectorizer, we apply an algorithm that minimizes the error, i.e. the output predicted by the model y(X) should be as often as possible equal to the label y.\n",
        "\n",
        "We use the logistics regression. Other models could also be applied (like SVM, Naive Bayes, ...).\n",
        "\n",
        "We build the model as a pipeline, consisting of:\n",
        "- vectorization\n",
        "- classifier\n",
        "\n",
        "After initialization of the model, we fit it to the training data."
      ]
    },
    {
      "cell_type": "code",
      "execution_count": 39,
      "id": "fa766c5e",
      "metadata": {
        "id": "fa766c5e"
      },
      "outputs": [],
      "source": [
        "classifier_tfidf = LogisticRegression()\n",
        "model_tfidf = Pipeline([(\"vectorizer\", vectorizer_tfidf), (\"classifier\", classifier_tfidf)])\n",
        "\n",
        "start_time = datetime.now()\n",
        "model_tfidf.fit(X_train, y_train)\n",
        "end_time = datetime.now()\n",
        "\n",
        "training_time_tfidf = (end_time - start_time).total_seconds()"
      ]
    },
    {
      "cell_type": "markdown",
      "id": "aa548279",
      "metadata": {
        "id": "aa548279"
      },
      "source": [
        "After the model is trained, we assess the accuracy of the model by comparing the predictions of the model to the labels for both the training and the test data. We compare it for both as the difference between the two accuracies is an important indicator of overfitting (i.e. the model is too strongly fitted to the training data).\n",
        "\n",
        "We also look at the duration of the training."
      ]
    },
    {
      "cell_type": "code",
      "execution_count": 40,
      "id": "0bd28125",
      "metadata": {
        "scrolled": true,
        "id": "0bd28125",
        "colab": {
          "base_uri": "https://localhost:8080/"
        },
        "outputId": "ca0bdd37-ea27-4f3d-e8a1-b420c00ea46d"
      },
      "outputs": [
        {
          "output_type": "stream",
          "name": "stdout",
          "text": [
            "Accuracy Training data: 99.7%\n",
            "Accuracy Test data: 97.9%\n",
            "Training time: 4.4s\n"
          ]
        }
      ],
      "source": [
        "predicted_train_tfidf = model_tfidf.predict(X_train)\n",
        "accuracy_train_tfidf = accuracy_score(y_train, predicted_train_tfidf)\n",
        "print('Accuracy Training data: {:.1%}'.format(accuracy_train_tfidf))\n",
        "\n",
        "predicted_test_tfidf = model_tfidf.predict(X_test)\n",
        "accuracy_test_tfidf = accuracy_score(y_test, predicted_test_tfidf)\n",
        "accuracy_tfidf = accuracy_test_tfidf\n",
        "print('Accuracy Test data: {:.1%}'.format(accuracy_test_tfidf))\n",
        "\n",
        "print('Training time: {:.1f}s'.format(training_time_tfidf))"
      ]
    },
    {
      "cell_type": "markdown",
      "id": "7625c771",
      "metadata": {
        "id": "7625c771"
      },
      "source": [
        "We get an amazing accuracy! Both training and test accuracy are similar, so the model is not overfitted. If the model were overfitted, it could be improved by adjusting the regularization, which comes by default with the sci-kit logistic regression model. A typical regularization mechanism is the L2 regularization, which is not covered in this article. And we got it in less than 3 seconds!\n",
        "\n",
        "Before moving to deep learning, we would like to add a few comments on the Logistic Regression model. This model is to classification what linear regression is to regression. It is a linear model. This means that the minimization algorithm consists of minimizing a function which is quadratic in its parameters. The great news is that such a minimization has no local minima, but only a global minimum, which can be reached. And it can be reached using a simple and fast algorithm, by inverting a matrix (of the size of the vocabulary). The negative side is that once this minimum is reached, it is difficult to improve the model (except by adding regularization).\n",
        "\n",
        "The conclusion is that the linear algorithm are converging fast and reach the \"exact\" solution, however once a model is optimized, there is little room for improvement."
      ]
    },
    {
      "cell_type": "markdown",
      "id": "fef2c116",
      "metadata": {
        "id": "fef2c116"
      },
      "source": [
        "### Model Interpretation"
      ]
    },
    {
      "cell_type": "markdown",
      "id": "14ace51c",
      "metadata": {
        "id": "14ace51c"
      },
      "source": [
        "An advantage of the linear algorithm is that we can interpret its result easily. Since each parameter of the model corresponds to a word, knowing which parameters count most automatically tells us which words count most.\n",
        "\n",
        "Let's have a closer look at the model's parameters, extracting the ten most important words per category:"
      ]
    },
    {
      "cell_type": "code",
      "execution_count": 41,
      "id": "d997feab",
      "metadata": {
        "id": "d997feab",
        "colab": {
          "base_uri": "https://localhost:8080/"
        },
        "outputId": "5e705def-625d-4016-fa5d-0b09d17e7154"
      },
      "outputs": [
        {
          "output_type": "stream",
          "name": "stdout",
          "text": [
            "Classes of the model:  ['business' 'entertainment' 'politics' 'sport' 'tech']\n",
            "--------------------------------------------------------------------------------\n",
            "Shape of the coefficients of the model (categories x vocabulary size):  (5, 15000)\n",
            "--------------------------------------------------------------------------------\n",
            "business: economy, economic, price, growth, profit, market, bank, firm, share, company, \n",
            "--------------------------------------------------------------------------------\n",
            "entertainment: chart, tv, singer, album, band, star, award, music, show, film, \n",
            "--------------------------------------------------------------------------------\n",
            "politics: mp, blair, tory, lord, minister, election, government, labour, mr, party, \n",
            "--------------------------------------------------------------------------------\n",
            "sport: team, season, england, coach, win, champion, cup, player, club, match, \n",
            "--------------------------------------------------------------------------------\n",
            "tech: online, site, people, phone, mobile, software, user, computer, technology, game, \n",
            "--------------------------------------------------------------------------------\n"
          ]
        }
      ],
      "source": [
        "print('Classes of the model: ',classifier_tfidf.classes_)\n",
        "print(80*'-')\n",
        "print('Shape of the coefficients of the model (categories x vocabulary size): ',classifier_tfidf.coef_.shape)\n",
        "print(80*'-')\n",
        "NN = 10\n",
        "# Get the 10 (here: NN, which you can adjust yourself) ids of the words with highest weights per category\n",
        "top_words = np.argsort(classifier_tfidf.coef_,axis=1)[:,-NN:]\n",
        "\n",
        "# Get the vocabulary of the model (mapping of words to ids):\n",
        "voc = vectorizer_tfidf.vocabulary_\n",
        "# Get the inverse vocabulary to map the ids of the words to the words:\n",
        "inv_voc = {v: k for k, v in voc.items()}\n",
        "\n",
        "# Get for each category (=class) the top ten words\n",
        "for n, w in enumerate(classifier_tfidf.classes_):\n",
        "    t = w + ': '\n",
        "    for i in range(NN):\n",
        "        t += inv_voc[top_words[n,i]]\n",
        "        if i!=NN:\n",
        "            t+=', '\n",
        "    print(t)\n",
        "    print(80*'-')"
      ]
    },
    {
      "cell_type": "markdown",
      "id": "05e58e3b",
      "metadata": {
        "id": "05e58e3b"
      },
      "source": [
        "The model seems to work well!"
      ]
    },
    {
      "cell_type": "markdown",
      "id": "b97b3616",
      "metadata": {
        "id": "b97b3616"
      },
      "source": [
        "## Deep Learning - RNN"
      ]
    },
    {
      "cell_type": "markdown",
      "id": "6964c874",
      "metadata": {
        "id": "6964c874"
      },
      "source": [
        "Words appear in a text in a given order. Recurrent Neural Networks (RNN) are models which take the order of words into account, by processing words sequentially, as they appear in the text. It was observed that RNNs, without any \"internal memory\", have a limitation regarding \"how far they can remember\" the effect of correlations between words. To mitigate this, Long Short Term Memory (LSTM) cells replaced the traditional RNNs in Machine Learning. The LSTM cells have internal variables which act as a memory. It comes at a slightly higher computational costs, which is typically acceptable.\n",
        "\n",
        "In the building of this model, we take advantage of word embeddings, applying Word2Vec. This is a technique that was published in 2013 [1] and had a considerable impact in NLP. It consists of describing a word with a vector of a given size (typically 100 or 300). The vector for a given word is defined by its context within texts (i.e. based on words on its left and its right - N words on the left, N words on the right, N being typically 5). Typically, word embeddings is trained on huge text corpuses. Word2Vec was trained on millions of Google News, while a similar technique called GloVe was trained on Wikipedia. Words with similar meanings (synonyms) are typically close to each other in this space of words. The representation is \"dense\", compared to the one-hot vector representation, which is \"sparse\".\n",
        "\n",
        "The sequential approach of RNN enables to take the order of words into account, but at the same time slows down the training, since a sequential approach by design cannot be handled by parallel computing.\n",
        "\n",
        "Training and test data is defined in a different way than for TF-IDF: we will use the non-processed text. The labelling cannot be handled as text but has to be converted into a one-hot vector, because of technical reasons (to the best of my knowledge, this is simply not implemented in TensorFlow). Then we split into training and test data, same as we did for TF-IDF."
      ]
    },
    {
      "cell_type": "code",
      "execution_count": 42,
      "id": "4ddd9518",
      "metadata": {
        "id": "4ddd9518",
        "colab": {
          "base_uri": "https://localhost:8080/"
        },
        "outputId": "859905c0-d545-4a01-9046-cdbe2eb204ec"
      },
      "outputs": [
        {
          "output_type": "stream",
          "name": "stdout",
          "text": [
            "Coding of labels into a one-hot vector: entertainment is  [0 1 0 0 0]\n"
          ]
        }
      ],
      "source": [
        "# Renaming, Input -> X, Output -> y\n",
        "X_tf = df['text']\n",
        "y_tf_class = df['category']\n",
        "\n",
        "# Convert labels into a one-hot vector of size 5 (the number of distinct labels)\n",
        "lab = LabelBinarizer()\n",
        "lab.fit(y_tf_class)\n",
        "y_tf = lab.transform(y_tf_class)\n",
        "\n",
        "# Example (you can modify n)\n",
        "n=100\n",
        "print('Coding of labels into a one-hot vector: ' + y_tf_class[n] + ' is ', y_tf[n])\n",
        "\n",
        "# Split into training and test data\n",
        "X_tf_train, X_tf_test, y_tf_train, y_tf_test = train_test_split(X_tf, y_tf, test_size=0.3, random_state=42, stratify=df['category'])"
      ]
    },
    {
      "cell_type": "markdown",
      "id": "7398aa1c",
      "metadata": {
        "id": "7398aa1c"
      },
      "source": [
        "The text, a sequence of words, needs to be converted to a sequence of numbers. We tokenize the text using TensorFlow's tokenizer.\n",
        "\n",
        "After initializing the tokenizer, we fit it on the training data."
      ]
    },
    {
      "cell_type": "code",
      "execution_count": 43,
      "id": "7dc81f3e",
      "metadata": {
        "id": "7dc81f3e"
      },
      "outputs": [],
      "source": [
        "corpus = X_tf_train\n",
        "max_words = 15000\n",
        "tokenizer = kprocessing.text.Tokenizer(lower=True, split=' ', num_words=max_words, oov_token=\"<pad>\", filters='!\"#$%&()*+,-./:;<=>?@[\\\\]^_`{|}~\\t\\n')\n",
        "tokenizer.fit_on_texts(corpus)\n",
        "voc = tokenizer.word_index\n",
        "reverse_voc = dict([(value, key) for (key, value) in voc.items()])"
      ]
    },
    {
      "cell_type": "markdown",
      "id": "79b94de1",
      "metadata": {
        "id": "79b94de1"
      },
      "source": [
        "Let's use the tokenizer to convert the training data (a sequence of words) into a sequence of numbers representing the words. We then pad sequences using TensorFlow's pad_sequences. We define a limit to the length of the sequences. Any text with more words than allowed will be cut.\n",
        "\n",
        "We look at the shape of the training data after processing it, and illustrate it with a specific example."
      ]
    },
    {
      "cell_type": "code",
      "execution_count": 44,
      "id": "4fc032ef",
      "metadata": {
        "id": "4fc032ef",
        "colab": {
          "base_uri": "https://localhost:8080/"
        },
        "outputId": "b89f5563-1257-4120-c369-91ce23a65c86"
      },
      "outputs": [
        {
          "output_type": "stream",
          "name": "stdout",
          "text": [
            "Shape:  (1557, 200)\n",
            "----------------------------------------------------------------------------------------------------\n",
            "Example:  [    4   317  1408  1309   651     3  4599   148    62   229    28  3974\n",
            "   472     7   540     6  2012  1398   471 10401     6   574     4   198\n",
            "     2   530     8   320    15  2160   265    56   409  1624     5     2\n",
            "  4600  4601  2717     2  4881    14     2   198    15  1556    24     6\n",
            "  1093   302     7     2    49  1575    34  8961     6   381    41     8\n",
            "  1408   218    13     2  4881   304    14   477     4     2  4881     9\n",
            "   860   581   112    52    10  1324  5208   823    13   416     2   457\n",
            "     4   446    10  3619     5  2248     1     7     2   242  2161     2\n",
            "  4881     9  1656     4   317  1408  1309    10  3793    28  1736  5598\n",
            "     4  7138  1459    22    40    56  2362  1971   230  3487    28  6032\n",
            "     3  6033     3  1625     5    20    73    39  1398   471   163   890\n",
            "   238   409   180   320     9  1092     3   193     7    22  4599   114\n",
            "     2  4881  1408  1656     9   544  3354   860     2  1838  1656  5599\n",
            "     3  3222   261     7   320    28  3974   148     7   540   112    43\n",
            "   416   695  1656 10402     2   324     3  1180     4    44 12510    45\n",
            "  5599     3  3975   445    28  5202   445     2  4881     9    49  1575\n",
            "  1656   651     3  6034   176    28  6035   199]\n"
          ]
        }
      ],
      "source": [
        "max_len = 200\n",
        "\n",
        "sequences = tokenizer.texts_to_sequences(X_tf_train)\n",
        "X_tf_train_seq = kprocessing.sequence.pad_sequences(sequences, maxlen=max_len)\n",
        "\n",
        "# Apply the same to test data\n",
        "X_tf_test_seq = kprocessing.sequence.pad_sequences(tokenizer.texts_to_sequences(X_tf_test), maxlen=max_len)\n",
        "\n",
        "n=10 # You can adjust n\n",
        "print('Shape: ',X_tf_train_seq.shape)\n",
        "print(100*'-')\n",
        "print('Example: ',X_tf_train_seq[n,:])"
      ]
    },
    {
      "cell_type": "markdown",
      "id": "60d18294",
      "metadata": {
        "id": "60d18294"
      },
      "source": [
        "Each word is now represented by a number (an index). We want to represent it by a vector which represents it best, leveraging on pre-learned information.\n",
        "\n",
        "This is done using Word2Vec, which we have described above. We will not train ourselves this word representation but download an existing representation, from the library gensim. This may take several minutes. Once this word representation is available, we map it to our tokenization."
      ]
    },
    {
      "cell_type": "code",
      "execution_count": 45,
      "id": "752a16b3",
      "metadata": {
        "id": "752a16b3",
        "colab": {
          "base_uri": "https://localhost:8080/"
        },
        "outputId": "ee739ca5-6efe-4306-d7a2-93a24caa81f3"
      },
      "outputs": [
        {
          "output_type": "stream",
          "name": "stdout",
          "text": [
            "[==================================================] 100.0% 1662.8/1662.8MB downloaded\n"
          ]
        },
        {
          "output_type": "execute_result",
          "data": {
            "text/plain": [
              "(300,)"
            ]
          },
          "metadata": {},
          "execution_count": 45
        }
      ],
      "source": [
        "# This may take several minutes\n",
        "w2v = api.load(\"word2vec-google-news-300\")\n",
        "# Example of a word representation:\n",
        "w2v['hello'].shape"
      ]
    },
    {
      "cell_type": "code",
      "execution_count": 46,
      "id": "22c5cab4",
      "metadata": {
        "id": "22c5cab4"
      },
      "outputs": [],
      "source": [
        "# Build weights of the embbeddings matrix using w2v\n",
        "emb_matrix=np.zeros((max_words+1, 300))\n",
        "for i in range(max_words):\n",
        "    w = reverse_voc[i+1]\n",
        "    if w in w2v:\n",
        "        emb_matrix[i+1,:] = w2v[w]\n",
        "emb_size = emb_matrix.shape[1]"
      ]
    },
    {
      "cell_type": "markdown",
      "id": "6e89d029",
      "metadata": {
        "id": "6e89d029"
      },
      "source": [
        "After we have a word representation, we build the model. We use:\n",
        "- Input layer: to tell the model which input format to expect, so that the model knows what to expect\n",
        "- Embedding: we transform the input (a sequence of word indices) into a sequence of embedded words (a sequence of vectors of size 300), using the downloaded Word2Vec matrix\n",
        "- LSTM layer: we use an LSTM layer that goes in both directions (forward and backward), to have maximal information available. The output of this layer (that is pushed to the next layer) is the output of the last word (on the right for the forward LSTM, on the left for the backward LSTM). We set the size of the output vector to 15 (which is somewhat arbitrary). Combining both outputs (forward and backward), we get a vector of size 30\n",
        "- Dropout layer: for regularization\n",
        "- Dense layer (with relu activation function, with 64 neurons): to solve the specific problem of classification\n",
        "- Dense layer (with softmax activation function): for a probability distribution for each label\n",
        "\n",
        "We run the model using Adam optimizer, where we have played with the hyper-parameters. Based on the recommendations of the first article on dropout (2014) [2|, we increase the learning rate compared to TensorFlow's default values."
      ]
    },
    {
      "cell_type": "code",
      "execution_count": 47,
      "id": "e0578f09",
      "metadata": {
        "id": "e0578f09"
      },
      "outputs": [],
      "source": [
        "input_ = layers.Input(shape = X_tf_train_seq[0,:].shape,name='input')\n",
        "# Embedding layer (voc size plus un (\"UNK\", word with index 0)), using the pre-trained emb_matrix obtained from Word2Vec\n",
        "x = layers.Embedding(max_words+1,emb_size,weights=[emb_matrix],trainable=False, name='embedding')(input_)\n",
        "x = layers.Bidirectional(layers.LSTM(15,dropout=0.2),name='bidirectional-lstm')(x) # LSTM layer\n",
        "x = layers.Dropout(0.2, name='dropout')(x)\n",
        "x = layers.Dense(64, activation='relu', name='dense')(x)\n",
        "output = layers.Dense(nr_categories,activation='softmax', name='classification')(x)\n",
        "\n",
        "model = models.Model(input_, output)\n",
        "\n",
        "opt = optimizers.Adam(learning_rate=0.01, beta_1=0.9)\n",
        "model.compile(optimizer=opt,loss='categorical_crossentropy', metrics=['accuracy'])"
      ]
    },
    {
      "cell_type": "markdown",
      "id": "161b1f6d",
      "metadata": {
        "id": "161b1f6d"
      },
      "source": [
        "Let's look at the model:"
      ]
    },
    {
      "cell_type": "code",
      "execution_count": 48,
      "id": "4b04f472",
      "metadata": {
        "id": "4b04f472",
        "colab": {
          "base_uri": "https://localhost:8080/"
        },
        "outputId": "f4ccb117-60bb-4854-ffb0-f93134d86ad1"
      },
      "outputs": [
        {
          "output_type": "stream",
          "name": "stdout",
          "text": [
            "Model: \"model\"\n",
            "_________________________________________________________________\n",
            " Layer (type)                Output Shape              Param #   \n",
            "=================================================================\n",
            " input (InputLayer)          [(None, 200)]             0         \n",
            "                                                                 \n",
            " embedding (Embedding)       (None, 200, 300)          4500300   \n",
            "                                                                 \n",
            " bidirectional-lstm (Bidire  (None, 30)                37920     \n",
            " ctional)                                                        \n",
            "                                                                 \n",
            " dropout (Dropout)           (None, 30)                0         \n",
            "                                                                 \n",
            " dense (Dense)               (None, 64)                1984      \n",
            "                                                                 \n",
            " classification (Dense)      (None, 5)                 325       \n",
            "                                                                 \n",
            "=================================================================\n",
            "Total params: 4540529 (17.32 MB)\n",
            "Trainable params: 40229 (157.14 KB)\n",
            "Non-trainable params: 4500300 (17.17 MB)\n",
            "_________________________________________________________________\n"
          ]
        }
      ],
      "source": [
        "model.summary()"
      ]
    },
    {
      "cell_type": "markdown",
      "id": "709960e9",
      "metadata": {
        "id": "709960e9"
      },
      "source": [
        "Now it is time to train the model! We train it over 10 epochs. When training the model, we get from the history object precious information, that we display after the training."
      ]
    },
    {
      "cell_type": "code",
      "execution_count": 49,
      "id": "655fa797",
      "metadata": {
        "id": "655fa797",
        "colab": {
          "base_uri": "https://localhost:8080/"
        },
        "outputId": "6eb9f3e4-0ecd-43f8-ec18-0c8d6a96fd71"
      },
      "outputs": [
        {
          "output_type": "stream",
          "name": "stdout",
          "text": [
            "Epoch 1/10\n",
            "25/25 [==============================] - 13s 89ms/step - loss: 1.2782 - accuracy: 0.5055 - val_loss: 1.2979 - val_accuracy: 0.4850\n",
            "Epoch 2/10\n",
            "25/25 [==============================] - 1s 30ms/step - loss: 0.8983 - accuracy: 0.6622 - val_loss: 0.6269 - val_accuracy: 0.7904\n",
            "Epoch 3/10\n",
            "25/25 [==============================] - 1s 34ms/step - loss: 0.6473 - accuracy: 0.7803 - val_loss: 0.4780 - val_accuracy: 0.8458\n",
            "Epoch 4/10\n",
            "25/25 [==============================] - 1s 31ms/step - loss: 0.4653 - accuracy: 0.8407 - val_loss: 0.3072 - val_accuracy: 0.9087\n",
            "Epoch 5/10\n",
            "25/25 [==============================] - 1s 30ms/step - loss: 0.2519 - accuracy: 0.9197 - val_loss: 0.2320 - val_accuracy: 0.9326\n",
            "Epoch 6/10\n",
            "25/25 [==============================] - 1s 28ms/step - loss: 0.2598 - accuracy: 0.9191 - val_loss: 0.3299 - val_accuracy: 0.8832\n",
            "Epoch 7/10\n",
            "25/25 [==============================] - 1s 31ms/step - loss: 0.1564 - accuracy: 0.9461 - val_loss: 0.2208 - val_accuracy: 0.9237\n",
            "Epoch 8/10\n",
            "25/25 [==============================] - 1s 39ms/step - loss: 0.2518 - accuracy: 0.9229 - val_loss: 0.2370 - val_accuracy: 0.9192\n",
            "Epoch 9/10\n",
            "25/25 [==============================] - 1s 32ms/step - loss: 0.1163 - accuracy: 0.9666 - val_loss: 0.2671 - val_accuracy: 0.9296\n",
            "Epoch 10/10\n",
            "25/25 [==============================] - 1s 30ms/step - loss: 0.1660 - accuracy: 0.9480 - val_loss: 0.3020 - val_accuracy: 0.9027\n"
          ]
        }
      ],
      "source": [
        "start_time = datetime.now()\n",
        "history = model.fit(X_tf_train_seq, y_tf_train, batch_size=64, shuffle=True, epochs=10, validation_data=(X_tf_test_seq, y_tf_test))\n",
        "end_time = datetime.now()\n",
        "\n",
        "training_time_rnn = (end_time - start_time).total_seconds()"
      ]
    },
    {
      "cell_type": "code",
      "execution_count": 50,
      "id": "de665c18",
      "metadata": {
        "id": "de665c18",
        "colab": {
          "base_uri": "https://localhost:8080/",
          "height": 486
        },
        "outputId": "9e1ab8e6-0582-4acb-81ff-a939fa43e0be"
      },
      "outputs": [
        {
          "output_type": "execute_result",
          "data": {
            "text/plain": [
              "<matplotlib.legend.Legend at 0x7cde6c2c3af0>"
            ]
          },
          "metadata": {},
          "execution_count": 50
        },
        {
          "output_type": "display_data",
          "data": {
            "text/plain": [
              "<Figure size 1500x500 with 2 Axes>"
            ],
            "image/png": "[encoded data removed]"
          },
          "metadata": {}
        }
      ],
      "source": [
        "fig, ax = plt.subplots(nrows=1, ncols=2, figsize=(15, 5))\n",
        "ax[0].set(title='Loss')\n",
        "ax[0].plot(history.history['loss'], label='Training')\n",
        "ax[0].plot(history.history['val_loss'], label='Validation')\n",
        "ax[0].legend(loc=\"upper right\")\n",
        "\n",
        "ax[1].set(title='Accuracy')\n",
        "ax[1].plot(history.history['accuracy'], label='Training')\n",
        "ax[1].plot(history.history['val_accuracy'], label='Validation')\n",
        "ax[1].legend(loc=\"lower right\")"
      ]
    },
    {
      "cell_type": "code",
      "execution_count": 51,
      "id": "dae33f05",
      "metadata": {
        "id": "dae33f05",
        "colab": {
          "base_uri": "https://localhost:8080/"
        },
        "outputId": "2b034db7-c810-4e97-f30a-c9ac6d94d628"
      },
      "outputs": [
        {
          "output_type": "stream",
          "name": "stdout",
          "text": [
            "Accuracy Training data: 94.8%\n",
            "Accuracy Test data: 90.3%\n",
            "Training time: 20.1s\n"
          ]
        }
      ],
      "source": [
        "accuracy_rnn = history.history['val_accuracy'][-1]\n",
        "print('Accuracy Training data: {:.1%}'.format(history.history['accuracy'][-1]))\n",
        "print('Accuracy Test data: {:.1%}'.format(history.history['val_accuracy'][-1]))\n",
        "print('Training time: {:.1f}s'.format(training_time_rnn))"
      ]
    },
    {
      "cell_type": "markdown",
      "id": "225b4e06",
      "metadata": {
        "id": "225b4e06"
      },
      "source": [
        "For this (simple) problem with little training data, we observe that this sophisticated model gets a lower accuracy than the TF-IDF model, and needs around 10 times more time to be trained!\n",
        "\n",
        "This might be disappointing. My conclusion is:  a simple problem does not necessarily needs a sophisticated solution."
      ]
    },
    {
      "cell_type": "markdown",
      "id": "75e65b49",
      "metadata": {
        "id": "75e65b49"
      },
      "source": [
        "The Recurrent Neural Network model with the use of Word2Vec was improved from the Linear TF-IDF model by taking the order of words into consideration, and by using a pre-learned representation of words. But the representation of words we have does not consider the context in which the word is applied. For example, in the following sentences: \"I took a loan at the bank.\", \"I am sitting on a bank.\", the word \"bank\" has a completely different meaning. It is reasonable to think that teh context matters. This is what the model BERT is solving."
      ]
    },
    {
      "cell_type": "markdown",
      "id": "c1b6b673",
      "metadata": {
        "id": "c1b6b673"
      },
      "source": [
        "## Deep Learning - With Bert Language Model"
      ]
    },
    {
      "cell_type": "markdown",
      "id": "918347d9",
      "metadata": {
        "id": "918347d9"
      },
      "source": [
        "Going one step further, let's introduce a model where not only each single words are pre-learned, but entire sentences. This is achieved with the BERT language model, which was published in 2019 by Devlin et al [3], at Google. This language model allows the encoding of words depending on their context, by using a huge corpus (Wikipedia and books) for training. Training is done as self-supervised: it is done by masking randomly words from existing sentences. The training of the model consists of completing the missing words. The architecture of BERT consists of multiple layers of transformers.\n",
        "The BERT model has 110m parameters; the large Bert model has 340m parameters. In practice, we will use a smaller model, Distil Bert, which has 66m parameters.\n",
        "Devlin at al. made the implementation of the BERT model available (https://github.com/google-research/bert). But we will use the Python library transformers, which was made available by company HuggingFace (together with many other models)."
      ]
    },
    {
      "cell_type": "markdown",
      "id": "b9a55ff2",
      "metadata": {
        "id": "b9a55ff2"
      },
      "source": [
        "Since the BERT model is pre-trained, it comes with a tokenizer. This is why we will use the non-processed training data, and will tokenize the sentences using the Distil Bert tokenizer. As for the RNN model, we will have to map the labels to a one-hot vector.\n",
        "\n",
        "For practical reasons, we will first convert the training data into the desired format, and later we will split into training/test data.\n",
        "\n",
        "The Distil BERT model requires a sequence of word indices and an attention mask (a sequence of attention values). This is also what the Distil Bert tokenizer generates. But for our simple use case, the attention mask will be constant. This is why, when building the data, we will ignore the attention mask and only consider the word indices (which are the \"input_ids\" of the Distil Bert tokenizer). For performance reasons, we convert the list of training data into an array."
      ]
    },
    {
      "cell_type": "code",
      "execution_count": 52,
      "id": "6cd22dd5",
      "metadata": {
        "id": "6cd22dd5",
        "colab": {
          "base_uri": "https://localhost:8080/"
        },
        "outputId": "907a2a91-486f-40c7-806e-2fd404ba521e"
      },
      "outputs": [
        {
          "output_type": "stream",
          "name": "stdout",
          "text": [
            "Coding of labels into a one-hot vector: entertainment is  [0 1 0 0 0]\n"
          ]
        }
      ],
      "source": [
        "# Renaming, Input -> X, Output -> y\n",
        "X_bert = df['text']\n",
        "y_bert_class = df['category']\n",
        "\n",
        "# Convert labels into a one-hot vector of size 5 (the number of distinct labels)\n",
        "lab = LabelBinarizer()\n",
        "lab.fit(y_bert_class)\n",
        "y_bert = lab.transform(y_bert_class)\n",
        "\n",
        "# Example (you can modify n)\n",
        "n=100\n",
        "print('Coding of labels into a one-hot vector: ' + y_bert_class[n] + ' is ', y_bert[n])"
      ]
    },
    {
      "cell_type": "code",
      "execution_count": 53,
      "id": "bd56dfa4",
      "metadata": {
        "id": "bd56dfa4",
        "colab": {
          "base_uri": "https://localhost:8080/",
          "height": 255,
          "referenced_widgets": [
            "efda2408f98448fd8bba316b5d902e71",
            "1617a52e1da547f0afc9ed6279552581",
            "6d0f8e852bf1404499a08eeaa22811c1",
            "d27ca466f7e143a09254044ef39fed11",
            "9de564ac27f04ac8ba149617339e2069",
            "8c775dcffaf44079a8b9728a4b4c080b",
            "edc4d1caf7524ccfa9742482ceef202f",
            "6085dccdf68b4508a5465b5c3a69c68a",
            "8bd3874e86b545fa839c3e46798f94cf",
            "c036b936e77e4395bb97169163844123",
            "8b16430e522747789275a5b61f3a5e94",
            "f8ec4443a37d435f9c43be596eebf92e",
            "5073c24e97f04ab49527bc5567003d66",
            "17f47489c8b64000a68cbfad09dd2b02",
            "2bf2f56e7621417e904095a0715802fd",
            "d74d07e9aae4404a8ed1e763fbaa8ccf",
            "7e0a1ffad21b4e47aa71eb29a7c41659",
            "bc9ed14b94014f9c96f2ee78a37e81ad",
            "46cae2dce75c4d0496a67fd251b460a5",
            "490f442ce94d4ca5b9065776c9396cce",
            "395713817f7340718398b7695b8de29f",
            "04fe4c40e67c4fdbb4eb6fcd2bff858a",
            "f3759ccebc0c4be3abff6e6bf49f0b78",
            "2b893a26f0944ce491ca66692ac8b3c4",
            "21643699d82f4c379c5ac4c13febebe0",
            "b55cb2d76990479b816e9d01d8008659",
            "f444d11a8d7b433e90c77a958ae0810c",
            "d37642ccda6c43059c75edb09aa6843e",
            "ac681cbd1a314ff68c1afacd755ad07a",
            "0fc08b6ce1964ed9bd51adb0c74a48c6",
            "b291336239b6445986a9b97c05fa385a",
            "90857b2d89fb48ffbae432586d794af3",
            "64f4f4e136fd442f897e1c7ea6983eeb",
            "7c5f7ca6d76341569d5cf3c801122415",
            "9e37f16c9b074324895b9cace24a809a",
            "72dfd91849314f2594a866ae9c5fa896",
            "2dcfa0579c214a258c19786e2eed1715",
            "a0d35139a6c343639613c0c0decbd73c",
            "e0d04090827342df99f9050d3d66176b",
            "eeccd7fde00f429ca1b50a8fd4aa544b",
            "3c68fe92f2f24b65bbfbb08f16b59d7c",
            "b42f3eb7c610422b8bf5c4bc4382c18e",
            "cdae83c8bd01443bad67de438669d774",
            "0a43a55b61a9472f8e8f37ce177da735"
          ]
        },
        "outputId": "070925e5-b313-4cf6-ed9f-948682092cb4"
      },
      "outputs": [
        {
          "output_type": "stream",
          "name": "stderr",
          "text": [
            "/usr/local/lib/python3.10/dist-packages/huggingface_hub/utils/_token.py:88: UserWarning: \n",
            "The secret `HF_TOKEN` does not exist in your Colab secrets.\n",
            "To authenticate with the Hugging Face Hub, create a token in your settings tab (https://huggingface.co/settings/tokens), set it as secret in your Google Colab and restart your session.\n",
            "You will be able to reuse this secret in all of your notebooks.\n",
            "Please note that authentication is recommended but still optional to access public models or datasets.\n",
            "  warnings.warn(\n"
          ]
        },
        {
          "output_type": "display_data",
          "data": {
            "text/plain": [
              "tokenizer_config.json:   0%|          | 0.00/28.0 [00:00<?, ?B/s]"
            ],
            "application/vnd.jupyter.widget-view+json": {
              "version_major": 2,
              "version_minor": 0,
              "model_id": "efda2408f98448fd8bba316b5d902e71"
            }
          },
          "metadata": {}
        },
        {
          "output_type": "display_data",
          "data": {
            "text/plain": [
              "vocab.txt:   0%|          | 0.00/232k [00:00<?, ?B/s]"
            ],
            "application/vnd.jupyter.widget-view+json": {
              "version_major": 2,
              "version_minor": 0,
              "model_id": "f8ec4443a37d435f9c43be596eebf92e"
            }
          },
          "metadata": {}
        },
        {
          "output_type": "display_data",
          "data": {
            "text/plain": [
              "tokenizer.json:   0%|          | 0.00/466k [00:00<?, ?B/s]"
            ],
            "application/vnd.jupyter.widget-view+json": {
              "version_major": 2,
              "version_minor": 0,
              "model_id": "f3759ccebc0c4be3abff6e6bf49f0b78"
            }
          },
          "metadata": {}
        },
        {
          "output_type": "display_data",
          "data": {
            "text/plain": [
              "config.json:   0%|          | 0.00/483 [00:00<?, ?B/s]"
            ],
            "application/vnd.jupyter.widget-view+json": {
              "version_major": 2,
              "version_minor": 0,
              "model_id": "7c5f7ca6d76341569d5cf3c801122415"
            }
          },
          "metadata": {}
        }
      ],
      "source": [
        "# distil-bert tokenizer\n",
        "tokenizer_bert = transformers.DistilBertTokenizer.from_pretrained('distilbert-base-uncased')\n",
        "X_bert = [tokenizer_bert(text, padding='max_length', max_length = 512, truncation=True)['input_ids'] for text in X_bert]\n",
        "X_bert = np.array(X_bert, dtype='int32')"
      ]
    },
    {
      "cell_type": "markdown",
      "id": "6e2f085b",
      "metadata": {
        "id": "6e2f085b"
      },
      "source": [
        "Let's split the data into a training and a test set, and have a look at the format of the data."
      ]
    },
    {
      "cell_type": "code",
      "execution_count": 54,
      "id": "11d6992e",
      "metadata": {
        "id": "11d6992e",
        "colab": {
          "base_uri": "https://localhost:8080/"
        },
        "outputId": "628575c4-d028-4311-ec7a-12063f82ff8e"
      },
      "outputs": [
        {
          "output_type": "stream",
          "name": "stdout",
          "text": [
            "Shape of training data:  (1557, 512)\n"
          ]
        }
      ],
      "source": [
        "# Train/test split\n",
        "X_bert_train, X_bert_test, y_bert_train, y_bert_test = train_test_split(X_bert, y_bert, test_size=0.3, random_state=42, stratify=df['category'])\n",
        "print('Shape of training data: ',X_bert_train.shape)"
      ]
    },
    {
      "cell_type": "markdown",
      "id": "5f4d9e23",
      "metadata": {
        "id": "5f4d9e23"
      },
      "source": [
        "Let's define the Distil Bert model, using a pre-trained model from the transformers library. This model will be integrated as a layer in the classification model. We will not train the parameters of this layer, which we do by setting it as trainable=False."
      ]
    },
    {
      "cell_type": "code",
      "execution_count": 55,
      "id": "5a6df31c",
      "metadata": {
        "id": "5a6df31c",
        "colab": {
          "base_uri": "https://localhost:8080/",
          "height": 141,
          "referenced_widgets": [
            "cb65f13030f74767b1063307174fafed",
            "a0334b79e7504515aa2e28b3f53f28ff",
            "b4ab773a87c2439090b30c1730735f3e",
            "a95f5c65697f400098a0090b075401bb",
            "5e85c29a96614831a6a5d246c941cf43",
            "5a659353b9c54abd9716b2b23bad9edf",
            "d3cb525c83dc41b3a37986ad08ae8915",
            "bc27495ab8a948edbcf9aa7f8d8a0f3c",
            "d738155d8d88451299fd62ddf7b685f3",
            "012151245adf404ab993f934793f69e6",
            "a78461ed309246fc8553be330b44185e"
          ]
        },
        "outputId": "45d113c3-c12c-4cc8-c371-2bf9ece70f6e"
      },
      "outputs": [
        {
          "output_type": "display_data",
          "data": {
            "text/plain": [
              "model.safetensors:   0%|          | 0.00/268M [00:00<?, ?B/s]"
            ],
            "application/vnd.jupyter.widget-view+json": {
              "version_major": 2,
              "version_minor": 0,
              "model_id": "cb65f13030f74767b1063307174fafed"
            }
          },
          "metadata": {}
        },
        {
          "output_type": "stream",
          "name": "stderr",
          "text": [
            "Some weights of the PyTorch model were not used when initializing the TF 2.0 model TFDistilBertModel: ['vocab_projector.bias', 'vocab_layer_norm.bias', 'vocab_layer_norm.weight', 'vocab_transform.bias', 'vocab_transform.weight']\n",
            "- This IS expected if you are initializing TFDistilBertModel from a PyTorch model trained on another task or with another architecture (e.g. initializing a TFBertForSequenceClassification model from a BertForPreTraining model).\n",
            "- This IS NOT expected if you are initializing TFDistilBertModel from a PyTorch model that you expect to be exactly identical (e.g. initializing a TFBertForSequenceClassification model from a BertForSequenceClassification model).\n",
            "All the weights of TFDistilBertModel were initialized from the PyTorch model.\n",
            "If your task is similar to the task the model of the checkpoint was trained on, you can already use TFDistilBertModel for predictions without further training.\n"
          ]
        }
      ],
      "source": [
        "config = transformers.DistilBertConfig(dropout=0.2, attention_dropout=0.2)\n",
        "dbert = transformers.TFDistilBertModel.from_pretrained('distilbert-base-uncased', config=config, trainable=False)"
      ]
    },
    {
      "cell_type": "markdown",
      "id": "5406c353",
      "metadata": {
        "id": "5406c353"
      },
      "source": [
        "You might get a warning message. Don't worry about it. In the context where we apply the model, this message can be ignored."
      ]
    },
    {
      "cell_type": "markdown",
      "id": "267d3636",
      "metadata": {
        "id": "267d3636"
      },
      "source": [
        "Let's have a closer look at the output of this model. For this, let's take a sample from our training dataset (we take a sample of size five) and look at the output through the model."
      ]
    },
    {
      "cell_type": "code",
      "execution_count": 56,
      "id": "a3ebc3f6",
      "metadata": {
        "id": "a3ebc3f6",
        "colab": {
          "base_uri": "https://localhost:8080/"
        },
        "outputId": "f0c64394-9349-426d-dc47-ca20eca8cf75"
      },
      "outputs": [
        {
          "output_type": "stream",
          "name": "stdout",
          "text": [
            "Object type:  <class 'transformers.modeling_tf_outputs.TFBaseModelOutput'>\n",
            "Output format (shape):  (5, 512, 768)\n",
            "Output used as input for the classifier (shape):  (5, 768)\n"
          ]
        }
      ],
      "source": [
        "# Let's create a sampe of size 5 from the training data\n",
        "sample = X_bert_train[0:5]\n",
        "print('Object type: ', type(dbert(sample)))\n",
        "print('Output format (shape): ',dbert(sample)[0].shape)\n",
        "print('Output used as input for the classifier (shape): ', dbert(sample)[0][:,0,:].shape)"
      ]
    },
    {
      "cell_type": "markdown",
      "id": "34b1cebf",
      "metadata": {
        "id": "34b1cebf"
      },
      "source": [
        "The output is a specific Python object. Among other information, we get a Tensor of size (N, M, S), where N is the size of the dataset (in our case five examples), M is the length of the sample (number of words in a sentence), and S is the size of the output vector (the output of the model). Typically, as mentioned by Devlin et al., for a classification task, we use the first output vector of a sentence as input for the rest of the classification model, since this first vector \"encodes\" information on the overall sentence. Alternatively a pooling of all output vectors could also be used as input for the rest of the classifier."
      ]
    },
    {
      "cell_type": "markdown",
      "id": "5bad90e2",
      "metadata": {
        "id": "5bad90e2"
      },
      "source": [
        "It is now time to build the classification model! It consists of:\n",
        "- Input layer: to tell the model which input format to expect, so that the model knows what to expect\n",
        "- Distil Bert model: to encode the input data into a new sequence of vectors (that is the output of BERT). Only the first vector of this sequence will be used as an input for the rest of the classifier\n",
        "- Dropout layer: for regularization\n",
        "- Dense layer (with relu activation function, with 64 neurons): to solve the specific problem of classification\n",
        "- Dense layer (with softmax activation function): for a probability distribution for each label"
      ]
    },
    {
      "cell_type": "code",
      "execution_count": 57,
      "id": "32d36f89",
      "metadata": {
        "id": "32d36f89"
      },
      "outputs": [],
      "source": [
        "input_ids_in = layers.Input(shape=(512,), name='input_token', dtype='int32')\n",
        "\n",
        "x = dbert(input_ids=input_ids_in)[0][:,0,:]\n",
        "x = layers.Dropout(0.2, name='dropout')(x)\n",
        "x = layers.Dense(64, activation='relu', name='dense')(x)\n",
        "x = layers.Dense(5, activation='softmax', name='classification')(x)\n",
        "\n",
        "dmodel = models.Model(inputs=input_ids_in, outputs = x)\n",
        "\n",
        "dmodel.compile(optimizer='adam',loss='categorical_crossentropy', metrics=['accuracy'])"
      ]
    },
    {
      "cell_type": "code",
      "execution_count": 58,
      "id": "64d50030",
      "metadata": {
        "id": "64d50030",
        "colab": {
          "base_uri": "https://localhost:8080/"
        },
        "outputId": "a6cb6114-50cb-4213-8359-506abb218ea1"
      },
      "outputs": [
        {
          "output_type": "stream",
          "name": "stdout",
          "text": [
            "Model: \"model_1\"\n",
            "_________________________________________________________________\n",
            " Layer (type)                Output Shape              Param #   \n",
            "=================================================================\n",
            " input_token (InputLayer)    [(None, 512)]             0         \n",
            "                                                                 \n",
            " tf_distil_bert_model (TFDi  TFBaseModelOutput(last_   66362880  \n",
            " stilBertModel)              hidden_state=(None, 512             \n",
            "                             , 768),                             \n",
            "                              hidden_states=None, at             \n",
            "                             tentions=None)                      \n",
            "                                                                 \n",
            " tf.__operators__.getitem (  (None, 768)               0         \n",
            " SlicingOpLambda)                                                \n",
            "                                                                 \n",
            " dropout (Dropout)           (None, 768)               0         \n",
            "                                                                 \n",
            " dense (Dense)               (None, 64)                49216     \n",
            "                                                                 \n",
            " classification (Dense)      (None, 5)                 325       \n",
            "                                                                 \n",
            "=================================================================\n",
            "Total params: 66412421 (253.34 MB)\n",
            "Trainable params: 49541 (193.52 KB)\n",
            "Non-trainable params: 66362880 (253.15 MB)\n",
            "_________________________________________________________________\n"
          ]
        }
      ],
      "source": [
        "dmodel.summary()"
      ]
    },
    {
      "cell_type": "code",
      "execution_count": 59,
      "id": "2d677a7b",
      "metadata": {
        "scrolled": true,
        "id": "2d677a7b",
        "colab": {
          "base_uri": "https://localhost:8080/"
        },
        "outputId": "8148e9c0-1477-459f-8370-cca976753792"
      },
      "outputs": [
        {
          "output_type": "stream",
          "name": "stdout",
          "text": [
            "Epoch 1/5\n",
            "49/49 [==============================] - 54s 950ms/step - loss: 0.8708 - accuracy: 0.7078 - val_loss: 0.3251 - val_accuracy: 0.9117\n",
            "Epoch 2/5\n",
            "49/49 [==============================] - 55s 1s/step - loss: 0.2885 - accuracy: 0.9364 - val_loss: 0.1777 - val_accuracy: 0.9491\n",
            "Epoch 3/5\n",
            "49/49 [==============================] - 49s 998ms/step - loss: 0.1900 - accuracy: 0.9480 - val_loss: 0.1313 - val_accuracy: 0.9611\n",
            "Epoch 4/5\n",
            "49/49 [==============================] - 56s 1s/step - loss: 0.1654 - accuracy: 0.9525 - val_loss: 0.1217 - val_accuracy: 0.9626\n",
            "Epoch 5/5\n",
            "49/49 [==============================] - 56s 1s/step - loss: 0.1375 - accuracy: 0.9634 - val_loss: 0.1088 - val_accuracy: 0.9686\n"
          ]
        }
      ],
      "source": [
        "# Train the model\n",
        "start_time = datetime.now()\n",
        "history = dmodel.fit(X_bert_train, y_bert_train, batch_size=32, shuffle=True, epochs=5, validation_data=(X_bert_test, y_bert_test))\n",
        "end_time = datetime.now()\n",
        "\n",
        "training_time_bert = (end_time - start_time).total_seconds()"
      ]
    },
    {
      "cell_type": "code",
      "execution_count": 60,
      "id": "646540dd",
      "metadata": {
        "id": "646540dd",
        "colab": {
          "base_uri": "https://localhost:8080/",
          "height": 486
        },
        "outputId": "c5cce4c4-1a08-4e89-9c02-de12c003d3b4"
      },
      "outputs": [
        {
          "output_type": "execute_result",
          "data": {
            "text/plain": [
              "<matplotlib.legend.Legend at 0x7cde2ac4a410>"
            ]
          },
          "metadata": {},
          "execution_count": 60
        },
        {
          "output_type": "display_data",
          "data": {
            "text/plain": [
              "<Figure size 1500x500 with 2 Axes>"
            ],
            "image/png": "[encoded data removed]"
          },
          "metadata": {}
        }
      ],
      "source": [
        "fig, ax = plt.subplots(nrows=1, ncols=2, figsize=(15, 5))\n",
        "ax[0].set(title='Loss')\n",
        "ax[0].plot(history.history['loss'], label='Training')\n",
        "ax[0].plot(history.history['val_loss'], label='Validation')\n",
        "ax[0].legend(loc=\"upper right\")\n",
        "\n",
        "ax[1].set(title='Accuracy')\n",
        "ax[1].plot(history.history['accuracy'], label='Training')\n",
        "ax[1].plot(history.history['val_accuracy'], label='Validation')\n",
        "ax[1].legend(loc=\"lower right\")"
      ]
    },
    {
      "cell_type": "code",
      "execution_count": 61,
      "id": "0fefc359",
      "metadata": {
        "id": "0fefc359",
        "colab": {
          "base_uri": "https://localhost:8080/"
        },
        "outputId": "9945fafd-38cd-4e7f-8f99-3dd531303f69"
      },
      "outputs": [
        {
          "output_type": "stream",
          "name": "stdout",
          "text": [
            "Accuracy Training data: 96.3%\n",
            "Accuracy Test data: 96.9%\n",
            "Training time: 269.5s (or 4.5 minutes)\n"
          ]
        }
      ],
      "source": [
        "accuracy_bert = history.history['val_accuracy'][-1]\n",
        "print('Accuracy Training data: {:.1%}'.format(history.history['accuracy'][-1]))\n",
        "print('Accuracy Test data: {:.1%}'.format(history.history['val_accuracy'][-1]))\n",
        "print('Training time: {:.1f}s (or {:.1f} minutes)'.format(training_time_bert, training_time_bert/60))"
      ]
    },
    {
      "cell_type": "markdown",
      "id": "b1cf8254",
      "metadata": {
        "id": "b1cf8254"
      },
      "source": [
        "For this (simple) problem with little training data, we observe that this sophisticated model gets a lower accuracy than the TF-IDF model, and needs more than 2'000 times more time to be trained!\n",
        "\n",
        "This might be disappointing. Same as for the RNN model, my conclusion is: a simple problem does not necessarily needs a sophisticated solution."
      ]
    },
    {
      "cell_type": "markdown",
      "id": "43b27d59",
      "metadata": {
        "id": "43b27d59"
      },
      "source": [
        "## Conclusion"
      ]
    },
    {
      "cell_type": "markdown",
      "id": "38f3cba5",
      "metadata": {
        "id": "38f3cba5"
      },
      "source": [
        "We have gone through three Machine Learning models to classify news according to their category. We have increased the complexity of the models, starting with a \"classical\" machine learning model, a linear model using TF-IDF. Then we have used a Recurrent Neutral Network model, using word embeddings to make use of pre-learned information. Finally we have used a BERT model, which is a pre-trained model, having not only single words pre-trained but also entire sentences.\n",
        "The models used are:\n",
        "- Linear model TF-IDF\n",
        "- Bi-directional LSTM model with word2vec word embedding\n",
        "- Distil BERT\n",
        "\n",
        "We have measured these models using two metrics:\n",
        "- Acurracy\n",
        "- Training time\n",
        "Let's look at the results:"
      ]
    },
    {
      "cell_type": "code",
      "execution_count": 62,
      "id": "bae94c64",
      "metadata": {
        "id": "bae94c64",
        "colab": {
          "base_uri": "https://localhost:8080/",
          "height": 143
        },
        "outputId": "4e3c8539-173c-4e63-ebc3-83c5aa3fb3a9"
      },
      "outputs": [
        {
          "output_type": "display_data",
          "data": {
            "text/plain": [
              "   Method Accuracy  Training Time [s] Training Time [x]\n",
              "0  TF-IDF    97.9%                4.4              1.0x\n",
              "1     RNN    90.3%               20.1              4.6x\n",
              "2    BERT    96.9%              269.5             61.2x"
            ],
            "text/html": [
              "\n",
              "  <div id=\"df-7fe7912a-03a3-45e9-b20a-272282c4e51b\" class=\"colab-df-container\">\n",
              "    <div>\n",
              "<style scoped>\n",
              "    .dataframe tbody tr th:only-of-type {\n",
              "        vertical-align: middle;\n",
              "    }\n",
              "\n",
              "    .dataframe tbody tr th {\n",
              "        vertical-align: top;\n",
              "    }\n",
              "\n",
              "    .dataframe thead th {\n",
              "        text-align: right;\n",
              "    }\n",
              "</style>\n",
              "<table border=\"1\" class=\"dataframe\">\n",
              "  <thead>\n",
              "    <tr style=\"text-align: right;\">\n",
              "      <th></th>\n",
              "      <th>Method</th>\n",
              "      <th>Accuracy</th>\n",
              "      <th>Training Time [s]</th>\n",
              "      <th>Training Time [x]</th>\n",
              "    </tr>\n",
              "  </thead>\n",
              "  <tbody>\n",
              "    <tr>\n",
              "      <th>0</th>\n",
              "      <td>TF-IDF</td>\n",
              "      <td>97.9%</td>\n",
              "      <td>4.4</td>\n",
              "      <td>1.0x</td>\n",
              "    </tr>\n",
              "    <tr>\n",
              "      <th>1</th>\n",
              "      <td>RNN</td>\n",
              "      <td>90.3%</td>\n",
              "      <td>20.1</td>\n",
              "      <td>4.6x</td>\n",
              "    </tr>\n",
              "    <tr>\n",
              "      <th>2</th>\n",
              "      <td>BERT</td>\n",
              "      <td>96.9%</td>\n",
              "      <td>269.5</td>\n",
              "      <td>61.2x</td>\n",
              "    </tr>\n",
              "  </tbody>\n",
              "</table>\n",
              "</div>\n",
              "    <div class=\"colab-df-buttons\">\n",
              "\n",
              "  <div class=\"colab-df-container\">\n",
              "    <button class=\"colab-df-convert\" onclick=\"convertToInteractive('df-7fe7912a-03a3-45e9-b20a-272282c4e51b')\"\n",
              "            title=\"Convert this dataframe to an interactive table.\"\n",
              "            style=\"display:none;\">\n",
              "\n",
              "  <svg xmlns=\"http://www.w3.org/2000/svg\" height=\"24px\" viewBox=\"0 -960 960 960\">\n",
              "    <path d=\"M120-120v-720h720v720H120Zm60-500h600v-160H180v160Zm220 220h160v-160H400v160Zm0 220h160v-160H400v160ZM180-400h160v-160H180v160Zm440 0h160v-160H620v160ZM180-180h160v-160H180v160Zm440 0h160v-160H620v160Z\"/>\n",
              "  </svg>\n",
              "    </button>\n",
              "\n",
              "  <style>\n",
              "    .colab-df-container {\n",
              "      display:flex;\n",
              "      gap: 12px;\n",
              "    }\n",
              "\n",
              "    .colab-df-convert {\n",
              "      background-color: #E8F0FE;\n",
              "      border: none;\n",
              "      border-radius: 50%;\n",
              "      cursor: pointer;\n",
              "      display: none;\n",
              "      fill: #1967D2;\n",
              "      height: 32px;\n",
              "      padding: 0 0 0 0;\n",
              "      width: 32px;\n",
              "    }\n",
              "\n",
              "    .colab-df-convert:hover {\n",
              "      background-color: #E2EBFA;\n",
              "      box-shadow: 0px 1px 2px rgba(60, 64, 67, 0.3), 0px 1px 3px 1px rgba(60, 64, 67, 0.15);\n",
              "      fill: #174EA6;\n",
              "    }\n",
              "\n",
              "    .colab-df-buttons div {\n",
              "      margin-bottom: 4px;\n",
              "    }\n",
              "\n",
              "    [theme=dark] .colab-df-convert {\n",
              "      background-color: #3B4455;\n",
              "      fill: #D2E3FC;\n",
              "    }\n",
              "\n",
              "    [theme=dark] .colab-df-convert:hover {\n",
              "      background-color: #434B5C;\n",
              "      box-shadow: 0px 1px 3px 1px rgba(0, 0, 0, 0.15);\n",
              "      filter: drop-shadow(0px 1px 2px rgba(0, 0, 0, 0.3));\n",
              "      fill: #FFFFFF;\n",
              "    }\n",
              "  </style>\n",
              "\n",
              "    <script>\n",
              "      const buttonEl =\n",
              "        document.querySelector('#df-7fe7912a-03a3-45e9-b20a-272282c4e51b button.colab-df-convert');\n",
              "      buttonEl.style.display =\n",
              "        google.colab.kernel.accessAllowed ? 'block' : 'none';\n",
              "\n",
              "      async function convertToInteractive(key) {\n",
              "        const element = document.querySelector('#df-7fe7912a-03a3-45e9-b20a-272282c4e51b');\n",
              "        const dataTable =\n",
              "          await google.colab.kernel.invokeFunction('convertToInteractive',\n",
              "                                                    [key], {});\n",
              "        if (!dataTable) return;\n",
              "\n",
              "        const docLinkHtml = 'Like what you see? Visit the ' +\n",
              "          '<a target=\"_blank\" href=https://colab.research.google.com/notebooks/data_table.ipynb>data table notebook</a>'\n",
              "          + ' to learn more about interactive tables.';\n",
              "        element.innerHTML = '';\n",
              "        dataTable['output_type'] = 'display_data';\n",
              "        await google.colab.output.renderOutput(dataTable, element);\n",
              "        const docLink = document.createElement('div');\n",
              "        docLink.innerHTML = docLinkHtml;\n",
              "        element.appendChild(docLink);\n",
              "      }\n",
              "    </script>\n",
              "  </div>\n",
              "\n",
              "\n",
              "<div id=\"df-684f8c02-3801-4266-8e61-0f3b21ee0ab2\">\n",
              "  <button class=\"colab-df-quickchart\" onclick=\"quickchart('df-684f8c02-3801-4266-8e61-0f3b21ee0ab2')\"\n",
              "            title=\"Suggest charts\"\n",
              "            style=\"display:none;\">\n",
              "\n",
              "<svg xmlns=\"http://www.w3.org/2000/svg\" height=\"24px\"viewBox=\"0 0 24 24\"\n",
              "     width=\"24px\">\n",
              "    <g>\n",
              "        <path d=\"M19 3H5c-1.1 0-2 .9-2 2v14c0 1.1.9 2 2 2h14c1.1 0 2-.9 2-2V5c0-1.1-.9-2-2-2zM9 17H7v-7h2v7zm4 0h-2V7h2v10zm4 0h-2v-4h2v4z\"/>\n",
              "    </g>\n",
              "</svg>\n",
              "  </button>\n",
              "\n",
              "<style>\n",
              "  .colab-df-quickchart {\n",
              "      --bg-color: #E8F0FE;\n",
              "      --fill-color: #1967D2;\n",
              "      --hover-bg-color: #E2EBFA;\n",
              "      --hover-fill-color: #174EA6;\n",
              "      --disabled-fill-color: #AAA;\n",
              "      --disabled-bg-color: #DDD;\n",
              "  }\n",
              "\n",
              "  [theme=dark] .colab-df-quickchart {\n",
              "      --bg-color: #3B4455;\n",
              "      --fill-color: #D2E3FC;\n",
              "      --hover-bg-color: #434B5C;\n",
              "      --hover-fill-color: #FFFFFF;\n",
              "      --disabled-bg-color: #3B4455;\n",
              "      --disabled-fill-color: #666;\n",
              "  }\n",
              "\n",
              "  .colab-df-quickchart {\n",
              "    background-color: var(--bg-color);\n",
              "    border: none;\n",
              "    border-radius: 50%;\n",
              "    cursor: pointer;\n",
              "    display: none;\n",
              "    fill: var(--fill-color);\n",
              "    height: 32px;\n",
              "    padding: 0;\n",
              "    width: 32px;\n",
              "  }\n",
              "\n",
              "  .colab-df-quickchart:hover {\n",
              "    background-color: var(--hover-bg-color);\n",
              "    box-shadow: 0 1px 2px rgba(60, 64, 67, 0.3), 0 1px 3px 1px rgba(60, 64, 67, 0.15);\n",
              "    fill: var(--button-hover-fill-color);\n",
              "  }\n",
              "\n",
              "  .colab-df-quickchart-complete:disabled,\n",
              "  .colab-df-quickchart-complete:disabled:hover {\n",
              "    background-color: var(--disabled-bg-color);\n",
              "    fill: var(--disabled-fill-color);\n",
              "    box-shadow: none;\n",
              "  }\n",
              "\n",
              "  .colab-df-spinner {\n",
              "    border: 2px solid var(--fill-color);\n",
              "    border-color: transparent;\n",
              "    border-bottom-color: var(--fill-color);\n",
              "    animation:\n",
              "      spin 1s steps(1) infinite;\n",
              "  }\n",
              "\n",
              "  @keyframes spin {\n",
              "    0% {\n",
              "      border-color: transparent;\n",
              "      border-bottom-color: var(--fill-color);\n",
              "      border-left-color: var(--fill-color);\n",
              "    }\n",
              "    20% {\n",
              "      border-color: transparent;\n",
              "      border-left-color: var(--fill-color);\n",
              "      border-top-color: var(--fill-color);\n",
              "    }\n",
              "    30% {\n",
              "      border-color: transparent;\n",
              "      border-left-color: var(--fill-color);\n",
              "      border-top-color: var(--fill-color);\n",
              "      border-right-color: var(--fill-color);\n",
              "    }\n",
              "    40% {\n",
              "      border-color: transparent;\n",
              "      border-right-color: var(--fill-color);\n",
              "      border-top-color: var(--fill-color);\n",
              "    }\n",
              "    60% {\n",
              "      border-color: transparent;\n",
              "      border-right-color: var(--fill-color);\n",
              "    }\n",
              "    80% {\n",
              "      border-color: transparent;\n",
              "      border-right-color: var(--fill-color);\n",
              "      border-bottom-color: var(--fill-color);\n",
              "    }\n",
              "    90% {\n",
              "      border-color: transparent;\n",
              "      border-bottom-color: var(--fill-color);\n",
              "    }\n",
              "  }\n",
              "</style>\n",
              "\n",
              "  <script>\n",
              "    async function quickchart(key) {\n",
              "      const quickchartButtonEl =\n",
              "        document.querySelector('#' + key + ' button');\n",
              "      quickchartButtonEl.disabled = true;  // To prevent multiple clicks.\n",
              "      quickchartButtonEl.classList.add('colab-df-spinner');\n",
              "      try {\n",
              "        const charts = await google.colab.kernel.invokeFunction(\n",
              "            'suggestCharts', [key], {});\n",
              "      } catch (error) {\n",
              "        console.error('Error during call to suggestCharts:', error);\n",
              "      }\n",
              "      quickchartButtonEl.classList.remove('colab-df-spinner');\n",
              "      quickchartButtonEl.classList.add('colab-df-quickchart-complete');\n",
              "    }\n",
              "    (() => {\n",
              "      let quickchartButtonEl =\n",
              "        document.querySelector('#df-684f8c02-3801-4266-8e61-0f3b21ee0ab2 button');\n",
              "      quickchartButtonEl.style.display =\n",
              "        google.colab.kernel.accessAllowed ? 'block' : 'none';\n",
              "    })();\n",
              "  </script>\n",
              "</div>\n",
              "    </div>\n",
              "  </div>\n"
            ]
          },
          "metadata": {}
        }
      ],
      "source": [
        "method = ['TF-IDF', 'RNN', 'BERT']\n",
        "accuracy = [accuracy_tfidf, accuracy_rnn, accuracy_bert]\n",
        "accuracy = [str(round(acc*100, 1))+'%' for acc in accuracy]\n",
        "training_time = [round(training_time_tfidf,1), round(training_time_rnn,1), round(training_time_bert,1)]\n",
        "training_time_rounded = [round(tt,1) for tt in training_time]\n",
        "training_time = np.array(training_time)\n",
        "training_time_x = list(training_time /min(training_time))\n",
        "training_time_x = [str(round(ttx,1))+'x' for ttx in training_time_x]\n",
        "\n",
        "dict = {'Method' : method,\n",
        "        'Accuracy' : accuracy,\n",
        "        'Training Time [s]' : training_time_rounded,\n",
        "        'Training Time [x]' : training_time_x}\n",
        "df = pd.DataFrame(dict)\n",
        "display(df)"
      ]
    },
    {
      "cell_type": "markdown",
      "id": "e2b7be39",
      "metadata": {
        "id": "e2b7be39"
      },
      "source": [
        "This classification is a simple problem. A simple model like the linear TF-IDF model already provides a very good accuracy. Using more complex models does not improve accuracy, but costs much more time: the RNN model needs 20 times more time than the TF-IDF. The BERT model needs even more than 1'000 times more time than the TF-IDF!\n",
        "\n",
        "My conclusion is: it is not always necessary to use complex models, if simple models already solve the issue!\n",
        "\n",
        "As a side note: the Linear TF-IDF approach can be very frustrating, if we do not get a satisfying accuracy from the beginning. In such cases it can be very hard to improve the model. It is very different with RNN and BERT models. Such models can be easily improved: one can either develop a more sophisticated architecture of the model, or run the model on more epochs, ... For the BERT model, it is fascinating to see that at each epoch, the accuracy improves. One might feel that the model reads the text better and better."
      ]
    },
    {
      "cell_type": "markdown",
      "id": "e51dc2c5",
      "metadata": {
        "id": "e51dc2c5"
      },
      "source": [
        "## References"
      ]
    },
    {
      "cell_type": "markdown",
      "id": "1e3b37e8",
      "metadata": {
        "id": "1e3b37e8"
      },
      "source": [
        "[1] Mikolov, Tomas, et al. (2013). \"Efficient Estimation of Word Representations in Vector Space\"\n",
        "\n",
        "[2] Srivastava, Hinton et al. (2014). \"Dropout: A Simple Way to Prevent Neural Networks from Overfitting\"\n",
        "\n",
        "[3] Devlin et al. (2019). \"BERT: Pre-training of Deep Bidirectional Transformers for Language Understanding\""
      ]
    }
  ],
  "metadata": {
    "kernelspec": {
      "display_name": "Python 3",
      "name": "python3"
    },
    "language_info": {
      "codemirror_mode": {
        "name": "ipython",
        "version": 3
      },
      "file_extension": ".py",
      "mimetype": "text/x-python",
      "name": "python",
      "nbconvert_exporter": "python",
      "pygments_lexer": "ipython3",
      "version": "3.7.6"
    },
    "colab": {
      "provenance": [],
      "gpuType": "T4"
    },
    "accelerator": "GPU",
    "widgets": {
      "application/vnd.jupyter.widget-state+json": {
        "efda2408f98448fd8bba316b5d902e71": {
          "model_module": "@jupyter-widgets/controls",
          "model_name": "HBoxModel",
          "model_module_version": "1.5.0",
          "state": {
            "_dom_classes": [],
            "_model_module": "@jupyter-widgets/controls",
            "_model_module_version": "1.5.0",
            "_model_name": "HBoxModel",
            "_view_count": null,
            "_view_module": "@jupyter-widgets/controls",
            "_view_module_version": "1.5.0",
            "_view_name": "HBoxView",
            "box_style": "",
            "children": [
              "IPY_MODEL_1617a52e1da547f0afc9ed6279552581",
              "IPY_MODEL_6d0f8e852bf1404499a08eeaa22811c1",
              "IPY_MODEL_d27ca466f7e143a09254044ef39fed11"
            ],
            "layout": "IPY_MODEL_9de564ac27f04ac8ba149617339e2069"
          }
        },
        "1617a52e1da547f0afc9ed6279552581": {
          "model_module": "@jupyter-widgets/controls",
          "model_name": "HTMLModel",
          "model_module_version": "1.5.0",
          "state": {
            "_dom_classes": [],
            "_model_module": "@jupyter-widgets/controls",
            "_model_module_version": "1.5.0",
            "_model_name": "HTMLModel",
            "_view_count": null,
            "_view_module": "@jupyter-widgets/controls",
            "_view_module_version": "1.5.0",
            "_view_name": "HTMLView",
            "description": "",
            "description_tooltip": null,
            "layout": "IPY_MODEL_8c775dcffaf44079a8b9728a4b4c080b",
            "placeholder": "​",
            "style": "IPY_MODEL_edc4d1caf7524ccfa9742482ceef202f",
            "value": "tokenizer_config.json: 100%"
          }
        },
        "6d0f8e852bf1404499a08eeaa22811c1": {
          "model_module": "@jupyter-widgets/controls",
          "model_name": "FloatProgressModel",
          "model_module_version": "1.5.0",
          "state": {
            "_dom_classes": [],
            "_model_module": "@jupyter-widgets/controls",
            "_model_module_version": "1.5.0",
            "_model_name": "FloatProgressModel",
            "_view_count": null,
            "_view_module": "@jupyter-widgets/controls",
            "_view_module_version": "1.5.0",
            "_view_name": "ProgressView",
            "bar_style": "success",
            "description": "",
            "description_tooltip": null,
            "layout": "IPY_MODEL_6085dccdf68b4508a5465b5c3a69c68a",
            "max": 28,
            "min": 0,
            "orientation": "horizontal",
            "style": "IPY_MODEL_8bd3874e86b545fa839c3e46798f94cf",
            "value": 28
          }
        },
        "d27ca466f7e143a09254044ef39fed11": {
          "model_module": "@jupyter-widgets/controls",
          "model_name": "HTMLModel",
          "model_module_version": "1.5.0",
          "state": {
            "_dom_classes": [],
            "_model_module": "@jupyter-widgets/controls",
            "_model_module_version": "1.5.0",
            "_model_name": "HTMLModel",
            "_view_count": null,
            "_view_module": "@jupyter-widgets/controls",
            "_view_module_version": "1.5.0",
            "_view_name": "HTMLView",
            "description": "",
            "description_tooltip": null,
            "layout": "IPY_MODEL_c036b936e77e4395bb97169163844123",
            "placeholder": "​",
            "style": "IPY_MODEL_8b16430e522747789275a5b61f3a5e94",
            "value": " 28.0/28.0 [00:00&lt;00:00, 1.94kB/s]"
          }
        },
        "9de564ac27f04ac8ba149617339e2069": {
          "model_module": "@jupyter-widgets/base",
          "model_name": "LayoutModel",
          "model_module_version": "1.2.0",
          "state": {
            "_model_module": "@jupyter-widgets/base",
            "_model_module_version": "1.2.0",
            "_model_name": "LayoutModel",
            "_view_count": null,
            "_view_module": "@jupyter-widgets/base",
            "_view_module_version": "1.2.0",
            "_view_name": "LayoutView",
            "align_content": null,
            "align_items": null,
            "align_self": null,
            "border": null,
            "bottom": null,
            "display": null,
            "flex": null,
            "flex_flow": null,
            "grid_area": null,
            "grid_auto_columns": null,
            "grid_auto_flow": null,
            "grid_auto_rows": null,
            "grid_column": null,
            "grid_gap": null,
            "grid_row": null,
            "grid_template_areas": null,
            "grid_template_columns": null,
            "grid_template_rows": null,
            "height": null,
            "justify_content": null,
            "justify_items": null,
            "left": null,
            "margin": null,
            "max_height": null,
            "max_width": null,
            "min_height": null,
            "min_width": null,
            "object_fit": null,
            "object_position": null,
            "order": null,
            "overflow": null,
            "overflow_x": null,
            "overflow_y": null,
            "padding": null,
            "right": null,
            "top": null,
            "visibility": null,
            "width": null
          }
        },
        "8c775dcffaf44079a8b9728a4b4c080b": {
          "model_module": "@jupyter-widgets/base",
          "model_name": "LayoutModel",
          "model_module_version": "1.2.0",
          "state": {
            "_model_module": "@jupyter-widgets/base",
            "_model_module_version": "1.2.0",
            "_model_name": "LayoutModel",
            "_view_count": null,
            "_view_module": "@jupyter-widgets/base",
            "_view_module_version": "1.2.0",
            "_view_name": "LayoutView",
            "align_content": null,
            "align_items": null,
            "align_self": null,
            "border": null,
            "bottom": null,
            "display": null,
            "flex": null,
            "flex_flow": null,
            "grid_area": null,
            "grid_auto_columns": null,
            "grid_auto_flow": null,
            "grid_auto_rows": null,
            "grid_column": null,
            "grid_gap": null,
            "grid_row": null,
            "grid_template_areas": null,
            "grid_template_columns": null,
            "grid_template_rows": null,
            "height": null,
            "justify_content": null,
            "justify_items": null,
            "left": null,
            "margin": null,
            "max_height": null,
            "max_width": null,
            "min_height": null,
            "min_width": null,
            "object_fit": null,
            "object_position": null,
            "order": null,
            "overflow": null,
            "overflow_x": null,
            "overflow_y": null,
            "padding": null,
            "right": null,
            "top": null,
            "visibility": null,
            "width": null
          }
        },
        "edc4d1caf7524ccfa9742482ceef202f": {
          "model_module": "@jupyter-widgets/controls",
          "model_name": "DescriptionStyleModel",
          "model_module_version": "1.5.0",
          "state": {
            "_model_module": "@jupyter-widgets/controls",
            "_model_module_version": "1.5.0",
            "_model_name": "DescriptionStyleModel",
            "_view_count": null,
            "_view_module": "@jupyter-widgets/base",
            "_view_module_version": "1.2.0",
            "_view_name": "StyleView",
            "description_width": ""
          }
        },
        "6085dccdf68b4508a5465b5c3a69c68a": {
          "model_module": "@jupyter-widgets/base",
          "model_name": "LayoutModel",
          "model_module_version": "1.2.0",
          "state": {
            "_model_module": "@jupyter-widgets/base",
            "_model_module_version": "1.2.0",
            "_model_name": "LayoutModel",
            "_view_count": null,
            "_view_module": "@jupyter-widgets/base",
            "_view_module_version": "1.2.0",
            "_view_name": "LayoutView",
            "align_content": null,
            "align_items": null,
            "align_self": null,
            "border": null,
            "bottom": null,
            "display": null,
            "flex": null,
            "flex_flow": null,
            "grid_area": null,
            "grid_auto_columns": null,
            "grid_auto_flow": null,
            "grid_auto_rows": null,
            "grid_column": null,
            "grid_gap": null,
            "grid_row": null,
            "grid_template_areas": null,
            "grid_template_columns": null,
            "grid_template_rows": null,
            "height": null,
            "justify_content": null,
            "justify_items": null,
            "left": null,
            "margin": null,
            "max_height": null,
            "max_width": null,
            "min_height": null,
            "min_width": null,
            "object_fit": null,
            "object_position": null,
            "order": null,
            "overflow": null,
            "overflow_x": null,
            "overflow_y": null,
            "padding": null,
            "right": null,
            "top": null,
            "visibility": null,
            "width": null
          }
        },
        "8bd3874e86b545fa839c3e46798f94cf": {
          "model_module": "@jupyter-widgets/controls",
          "model_name": "ProgressStyleModel",
          "model_module_version": "1.5.0",
          "state": {
            "_model_module": "@jupyter-widgets/controls",
            "_model_module_version": "1.5.0",
            "_model_name": "ProgressStyleModel",
            "_view_count": null,
            "_view_module": "@jupyter-widgets/base",
            "_view_module_version": "1.2.0",
            "_view_name": "StyleView",
            "bar_color": null,
            "description_width": ""
          }
        },
        "c036b936e77e4395bb97169163844123": {
          "model_module": "@jupyter-widgets/base",
          "model_name": "LayoutModel",
          "model_module_version": "1.2.0",
          "state": {
            "_model_module": "@jupyter-widgets/base",
            "_model_module_version": "1.2.0",
            "_model_name": "LayoutModel",
            "_view_count": null,
            "_view_module": "@jupyter-widgets/base",
            "_view_module_version": "1.2.0",
            "_view_name": "LayoutView",
            "align_content": null,
            "align_items": null,
            "align_self": null,
            "border": null,
            "bottom": null,
            "display": null,
            "flex": null,
            "flex_flow": null,
            "grid_area": null,
            "grid_auto_columns": null,
            "grid_auto_flow": null,
            "grid_auto_rows": null,
            "grid_column": null,
            "grid_gap": null,
            "grid_row": null,
            "grid_template_areas": null,
            "grid_template_columns": null,
            "grid_template_rows": null,
            "height": null,
            "justify_content": null,
            "justify_items": null,
            "left": null,
            "margin": null,
            "max_height": null,
            "max_width": null,
            "min_height": null,
            "min_width": null,
            "object_fit": null,
            "object_position": null,
            "order": null,
            "overflow": null,
            "overflow_x": null,
            "overflow_y": null,
            "padding": null,
            "right": null,
            "top": null,
            "visibility": null,
            "width": null
          }
        },
        "8b16430e522747789275a5b61f3a5e94": {
          "model_module": "@jupyter-widgets/controls",
          "model_name": "DescriptionStyleModel",
          "model_module_version": "1.5.0",
          "state": {
            "_model_module": "@jupyter-widgets/controls",
            "_model_module_version": "1.5.0",
            "_model_name": "DescriptionStyleModel",
            "_view_count": null,
            "_view_module": "@jupyter-widgets/base",
            "_view_module_version": "1.2.0",
            "_view_name": "StyleView",
            "description_width": ""
          }
        },
        "f8ec4443a37d435f9c43be596eebf92e": {
          "model_module": "@jupyter-widgets/controls",
          "model_name": "HBoxModel",
          "model_module_version": "1.5.0",
          "state": {
            "_dom_classes": [],
            "_model_module": "@jupyter-widgets/controls",
            "_model_module_version": "1.5.0",
            "_model_name": "HBoxModel",
            "_view_count": null,
            "_view_module": "@jupyter-widgets/controls",
            "_view_module_version": "1.5.0",
            "_view_name": "HBoxView",
            "box_style": "",
            "children": [
              "IPY_MODEL_5073c24e97f04ab49527bc5567003d66",
              "IPY_MODEL_17f47489c8b64000a68cbfad09dd2b02",
              "IPY_MODEL_2bf2f56e7621417e904095a0715802fd"
            ],
            "layout": "IPY_MODEL_d74d07e9aae4404a8ed1e763fbaa8ccf"
          }
        },
        "5073c24e97f04ab49527bc5567003d66": {
          "model_module": "@jupyter-widgets/controls",
          "model_name": "HTMLModel",
          "model_module_version": "1.5.0",
          "state": {
            "_dom_classes": [],
            "_model_module": "@jupyter-widgets/controls",
            "_model_module_version": "1.5.0",
            "_model_name": "HTMLModel",
            "_view_count": null,
            "_view_module": "@jupyter-widgets/controls",
            "_view_module_version": "1.5.0",
            "_view_name": "HTMLView",
            "description": "",
            "description_tooltip": null,
            "layout": "IPY_MODEL_7e0a1ffad21b4e47aa71eb29a7c41659",
            "placeholder": "​",
            "style": "IPY_MODEL_bc9ed14b94014f9c96f2ee78a37e81ad",
            "value": "vocab.txt: 100%"
          }
        },
        "17f47489c8b64000a68cbfad09dd2b02": {
          "model_module": "@jupyter-widgets/controls",
          "model_name": "FloatProgressModel",
          "model_module_version": "1.5.0",
          "state": {
            "_dom_classes": [],
            "_model_module": "@jupyter-widgets/controls",
            "_model_module_version": "1.5.0",
            "_model_name": "FloatProgressModel",
            "_view_count": null,
            "_view_module": "@jupyter-widgets/controls",
            "_view_module_version": "1.5.0",
            "_view_name": "ProgressView",
            "bar_style": "success",
            "description": "",
            "description_tooltip": null,
            "layout": "IPY_MODEL_46cae2dce75c4d0496a67fd251b460a5",
            "max": 231508,
            "min": 0,
            "orientation": "horizontal",
            "style": "IPY_MODEL_490f442ce94d4ca5b9065776c9396cce",
            "value": 231508
          }
        },
        "2bf2f56e7621417e904095a0715802fd": {
          "model_module": "@jupyter-widgets/controls",
          "model_name": "HTMLModel",
          "model_module_version": "1.5.0",
          "state": {
            "_dom_classes": [],
            "_model_module": "@jupyter-widgets/controls",
            "_model_module_version": "1.5.0",
            "_model_name": "HTMLModel",
            "_view_count": null,
            "_view_module": "@jupyter-widgets/controls",
            "_view_module_version": "1.5.0",
            "_view_name": "HTMLView",
            "description": "",
            "description_tooltip": null,
            "layout": "IPY_MODEL_395713817f7340718398b7695b8de29f",
            "placeholder": "​",
            "style": "IPY_MODEL_04fe4c40e67c4fdbb4eb6fcd2bff858a",
            "value": " 232k/232k [00:00&lt;00:00, 4.59MB/s]"
          }
        },
        "d74d07e9aae4404a8ed1e763fbaa8ccf": {
          "model_module": "@jupyter-widgets/base",
          "model_name": "LayoutModel",
          "model_module_version": "1.2.0",
          "state": {
            "_model_module": "@jupyter-widgets/base",
            "_model_module_version": "1.2.0",
            "_model_name": "LayoutModel",
            "_view_count": null,
            "_view_module": "@jupyter-widgets/base",
            "_view_module_version": "1.2.0",
            "_view_name": "LayoutView",
            "align_content": null,
            "align_items": null,
            "align_self": null,
            "border": null,
            "bottom": null,
            "display": null,
            "flex": null,
            "flex_flow": null,
            "grid_area": null,
            "grid_auto_columns": null,
            "grid_auto_flow": null,
            "grid_auto_rows": null,
            "grid_column": null,
            "grid_gap": null,
            "grid_row": null,
            "grid_template_areas": null,
            "grid_template_columns": null,
            "grid_template_rows": null,
            "height": null,
            "justify_content": null,
            "justify_items": null,
            "left": null,
            "margin": null,
            "max_height": null,
            "max_width": null,
            "min_height": null,
            "min_width": null,
            "object_fit": null,
            "object_position": null,
            "order": null,
            "overflow": null,
            "overflow_x": null,
            "overflow_y": null,
            "padding": null,
            "right": null,
            "top": null,
            "visibility": null,
            "width": null
          }
        },
        "7e0a1ffad21b4e47aa71eb29a7c41659": {
          "model_module": "@jupyter-widgets/base",
          "model_name": "LayoutModel",
          "model_module_version": "1.2.0",
          "state": {
            "_model_module": "@jupyter-widgets/base",
            "_model_module_version": "1.2.0",
            "_model_name": "LayoutModel",
            "_view_count": null,
            "_view_module": "@jupyter-widgets/base",
            "_view_module_version": "1.2.0",
            "_view_name": "LayoutView",
            "align_content": null,
            "align_items": null,
            "align_self": null,
            "border": null,
            "bottom": null,
            "display": null,
            "flex": null,
            "flex_flow": null,
            "grid_area": null,
            "grid_auto_columns": null,
            "grid_auto_flow": null,
            "grid_auto_rows": null,
            "grid_column": null,
            "grid_gap": null,
            "grid_row": null,
            "grid_template_areas": null,
            "grid_template_columns": null,
            "grid_template_rows": null,
            "height": null,
            "justify_content": null,
            "justify_items": null,
            "left": null,
            "margin": null,
            "max_height": null,
            "max_width": null,
            "min_height": null,
            "min_width": null,
            "object_fit": null,
            "object_position": null,
            "order": null,
            "overflow": null,
            "overflow_x": null,
            "overflow_y": null,
            "padding": null,
            "right": null,
            "top": null,
            "visibility": null,
            "width": null
          }
        },
        "bc9ed14b94014f9c96f2ee78a37e81ad": {
          "model_module": "@jupyter-widgets/controls",
          "model_name": "DescriptionStyleModel",
          "model_module_version": "1.5.0",
          "state": {
            "_model_module": "@jupyter-widgets/controls",
            "_model_module_version": "1.5.0",
            "_model_name": "DescriptionStyleModel",
            "_view_count": null,
            "_view_module": "@jupyter-widgets/base",
            "_view_module_version": "1.2.0",
            "_view_name": "StyleView",
            "description_width": ""
          }
        },
        "46cae2dce75c4d0496a67fd251b460a5": {
          "model_module": "@jupyter-widgets/base",
          "model_name": "LayoutModel",
          "model_module_version": "1.2.0",
          "state": {
            "_model_module": "@jupyter-widgets/base",
            "_model_module_version": "1.2.0",
            "_model_name": "LayoutModel",
            "_view_count": null,
            "_view_module": "@jupyter-widgets/base",
            "_view_module_version": "1.2.0",
            "_view_name": "LayoutView",
            "align_content": null,
            "align_items": null,
            "align_self": null,
            "border": null,
            "bottom": null,
            "display": null,
            "flex": null,
            "flex_flow": null,
            "grid_area": null,
            "grid_auto_columns": null,
            "grid_auto_flow": null,
            "grid_auto_rows": null,
            "grid_column": null,
            "grid_gap": null,
            "grid_row": null,
            "grid_template_areas": null,
            "grid_template_columns": null,
            "grid_template_rows": null,
            "height": null,
            "justify_content": null,
            "justify_items": null,
            "left": null,
            "margin": null,
            "max_height": null,
            "max_width": null,
            "min_height": null,
            "min_width": null,
            "object_fit": null,
            "object_position": null,
            "order": null,
            "overflow": null,
            "overflow_x": null,
            "overflow_y": null,
            "padding": null,
            "right": null,
            "top": null,
            "visibility": null,
            "width": null
          }
        },
        "490f442ce94d4ca5b9065776c9396cce": {
          "model_module": "@jupyter-widgets/controls",
          "model_name": "ProgressStyleModel",
          "model_module_version": "1.5.0",
          "state": {
            "_model_module": "@jupyter-widgets/controls",
            "_model_module_version": "1.5.0",
            "_model_name": "ProgressStyleModel",
            "_view_count": null,
            "_view_module": "@jupyter-widgets/base",
            "_view_module_version": "1.2.0",
            "_view_name": "StyleView",
            "bar_color": null,
            "description_width": ""
          }
        },
        "395713817f7340718398b7695b8de29f": {
          "model_module": "@jupyter-widgets/base",
          "model_name": "LayoutModel",
          "model_module_version": "1.2.0",
          "state": {
            "_model_module": "@jupyter-widgets/base",
            "_model_module_version": "1.2.0",
            "_model_name": "LayoutModel",
            "_view_count": null,
            "_view_module": "@jupyter-widgets/base",
            "_view_module_version": "1.2.0",
            "_view_name": "LayoutView",
            "align_content": null,
            "align_items": null,
            "align_self": null,
            "border": null,
            "bottom": null,
            "display": null,
            "flex": null,
            "flex_flow": null,
            "grid_area": null,
            "grid_auto_columns": null,
            "grid_auto_flow": null,
            "grid_auto_rows": null,
            "grid_column": null,
            "grid_gap": null,
            "grid_row": null,
            "grid_template_areas": null,
            "grid_template_columns": null,
            "grid_template_rows": null,
            "height": null,
            "justify_content": null,
            "justify_items": null,
            "left": null,
            "margin": null,
            "max_height": null,
            "max_width": null,
            "min_height": null,
            "min_width": null,
            "object_fit": null,
            "object_position": null,
            "order": null,
            "overflow": null,
            "overflow_x": null,
            "overflow_y": null,
            "padding": null,
            "right": null,
            "top": null,
            "visibility": null,
            "width": null
          }
        },
        "04fe4c40e67c4fdbb4eb6fcd2bff858a": {
          "model_module": "@jupyter-widgets/controls",
          "model_name": "DescriptionStyleModel",
          "model_module_version": "1.5.0",
          "state": {
            "_model_module": "@jupyter-widgets/controls",
            "_model_module_version": "1.5.0",
            "_model_name": "DescriptionStyleModel",
            "_view_count": null,
            "_view_module": "@jupyter-widgets/base",
            "_view_module_version": "1.2.0",
            "_view_name": "StyleView",
            "description_width": ""
          }
        },
        "f3759ccebc0c4be3abff6e6bf49f0b78": {
          "model_module": "@jupyter-widgets/controls",
          "model_name": "HBoxModel",
          "model_module_version": "1.5.0",
          "state": {
            "_dom_classes": [],
            "_model_module": "@jupyter-widgets/controls",
            "_model_module_version": "1.5.0",
            "_model_name": "HBoxModel",
            "_view_count": null,
            "_view_module": "@jupyter-widgets/controls",
            "_view_module_version": "1.5.0",
            "_view_name": "HBoxView",
            "box_style": "",
            "children": [
              "IPY_MODEL_2b893a26f0944ce491ca66692ac8b3c4",
              "IPY_MODEL_21643699d82f4c379c5ac4c13febebe0",
              "IPY_MODEL_b55cb2d76990479b816e9d01d8008659"
            ],
            "layout": "IPY_MODEL_f444d11a8d7b433e90c77a958ae0810c"
          }
        },
        "2b893a26f0944ce491ca66692ac8b3c4": {
          "model_module": "@jupyter-widgets/controls",
          "model_name": "HTMLModel",
          "model_module_version": "1.5.0",
          "state": {
            "_dom_classes": [],
            "_model_module": "@jupyter-widgets/controls",
            "_model_module_version": "1.5.0",
            "_model_name": "HTMLModel",
            "_view_count": null,
            "_view_module": "@jupyter-widgets/controls",
            "_view_module_version": "1.5.0",
            "_view_name": "HTMLView",
            "description": "",
            "description_tooltip": null,
            "layout": "IPY_MODEL_d37642ccda6c43059c75edb09aa6843e",
            "placeholder": "​",
            "style": "IPY_MODEL_ac681cbd1a314ff68c1afacd755ad07a",
            "value": "tokenizer.json: 100%"
          }
        },
        "21643699d82f4c379c5ac4c13febebe0": {
          "model_module": "@jupyter-widgets/controls",
          "model_name": "FloatProgressModel",
          "model_module_version": "1.5.0",
          "state": {
            "_dom_classes": [],
            "_model_module": "@jupyter-widgets/controls",
            "_model_module_version": "1.5.0",
            "_model_name": "FloatProgressModel",
            "_view_count": null,
            "_view_module": "@jupyter-widgets/controls",
            "_view_module_version": "1.5.0",
            "_view_name": "ProgressView",
            "bar_style": "success",
            "description": "",
            "description_tooltip": null,
            "layout": "IPY_MODEL_0fc08b6ce1964ed9bd51adb0c74a48c6",
            "max": 466062,
            "min": 0,
            "orientation": "horizontal",
            "style": "IPY_MODEL_b291336239b6445986a9b97c05fa385a",
            "value": 466062
          }
        },
        "b55cb2d76990479b816e9d01d8008659": {
          "model_module": "@jupyter-widgets/controls",
          "model_name": "HTMLModel",
          "model_module_version": "1.5.0",
          "state": {
            "_dom_classes": [],
            "_model_module": "@jupyter-widgets/controls",
            "_model_module_version": "1.5.0",
            "_model_name": "HTMLModel",
            "_view_count": null,
            "_view_module": "@jupyter-widgets/controls",
            "_view_module_version": "1.5.0",
            "_view_name": "HTMLView",
            "description": "",
            "description_tooltip": null,
            "layout": "IPY_MODEL_90857b2d89fb48ffbae432586d794af3",
            "placeholder": "​",
            "style": "IPY_MODEL_64f4f4e136fd442f897e1c7ea6983eeb",
            "value": " 466k/466k [00:00&lt;00:00, 7.75MB/s]"
          }
        },
        "f444d11a8d7b433e90c77a958ae0810c": {
          "model_module": "@jupyter-widgets/base",
          "model_name": "LayoutModel",
          "model_module_version": "1.2.0",
          "state": {
            "_model_module": "@jupyter-widgets/base",
            "_model_module_version": "1.2.0",
            "_model_name": "LayoutModel",
            "_view_count": null,
            "_view_module": "@jupyter-widgets/base",
            "_view_module_version": "1.2.0",
            "_view_name": "LayoutView",
            "align_content": null,
            "align_items": null,
            "align_self": null,
            "border": null,
            "bottom": null,
            "display": null,
            "flex": null,
            "flex_flow": null,
            "grid_area": null,
            "grid_auto_columns": null,
            "grid_auto_flow": null,
            "grid_auto_rows": null,
            "grid_column": null,
            "grid_gap": null,
            "grid_row": null,
            "grid_template_areas": null,
            "grid_template_columns": null,
            "grid_template_rows": null,
            "height": null,
            "justify_content": null,
            "justify_items": null,
            "left": null,
            "margin": null,
            "max_height": null,
            "max_width": null,
            "min_height": null,
            "min_width": null,
            "object_fit": null,
            "object_position": null,
            "order": null,
            "overflow": null,
            "overflow_x": null,
            "overflow_y": null,
            "padding": null,
            "right": null,
            "top": null,
            "visibility": null,
            "width": null
          }
        },
        "d37642ccda6c43059c75edb09aa6843e": {
          "model_module": "@jupyter-widgets/base",
          "model_name": "LayoutModel",
          "model_module_version": "1.2.0",
          "state": {
            "_model_module": "@jupyter-widgets/base",
            "_model_module_version": "1.2.0",
            "_model_name": "LayoutModel",
            "_view_count": null,
            "_view_module": "@jupyter-widgets/base",
            "_view_module_version": "1.2.0",
            "_view_name": "LayoutView",
            "align_content": null,
            "align_items": null,
            "align_self": null,
            "border": null,
            "bottom": null,
            "display": null,
            "flex": null,
            "flex_flow": null,
            "grid_area": null,
            "grid_auto_columns": null,
            "grid_auto_flow": null,
            "grid_auto_rows": null,
            "grid_column": null,
            "grid_gap": null,
            "grid_row": null,
            "grid_template_areas": null,
            "grid_template_columns": null,
            "grid_template_rows": null,
            "height": null,
            "justify_content": null,
            "justify_items": null,
            "left": null,
            "margin": null,
            "max_height": null,
            "max_width": null,
            "min_height": null,
            "min_width": null,
            "object_fit": null,
            "object_position": null,
            "order": null,
            "overflow": null,
            "overflow_x": null,
            "overflow_y": null,
            "padding": null,
            "right": null,
            "top": null,
            "visibility": null,
            "width": null
          }
        },
        "ac681cbd1a314ff68c1afacd755ad07a": {
          "model_module": "@jupyter-widgets/controls",
          "model_name": "DescriptionStyleModel",
          "model_module_version": "1.5.0",
          "state": {
            "_model_module": "@jupyter-widgets/controls",
            "_model_module_version": "1.5.0",
            "_model_name": "DescriptionStyleModel",
            "_view_count": null,
            "_view_module": "@jupyter-widgets/base",
            "_view_module_version": "1.2.0",
            "_view_name": "StyleView",
            "description_width": ""
          }
        },
        "0fc08b6ce1964ed9bd51adb0c74a48c6": {
          "model_module": "@jupyter-widgets/base",
          "model_name": "LayoutModel",
          "model_module_version": "1.2.0",
          "state": {
            "_model_module": "@jupyter-widgets/base",
            "_model_module_version": "1.2.0",
            "_model_name": "LayoutModel",
            "_view_count": null,
            "_view_module": "@jupyter-widgets/base",
            "_view_module_version": "1.2.0",
            "_view_name": "LayoutView",
            "align_content": null,
            "align_items": null,
            "align_self": null,
            "border": null,
            "bottom": null,
            "display": null,
            "flex": null,
            "flex_flow": null,
            "grid_area": null,
            "grid_auto_columns": null,
            "grid_auto_flow": null,
            "grid_auto_rows": null,
            "grid_column": null,
            "grid_gap": null,
            "grid_row": null,
            "grid_template_areas": null,
            "grid_template_columns": null,
            "grid_template_rows": null,
            "height": null,
            "justify_content": null,
            "justify_items": null,
            "left": null,
            "margin": null,
            "max_height": null,
            "max_width": null,
            "min_height": null,
            "min_width": null,
            "object_fit": null,
            "object_position": null,
            "order": null,
            "overflow": null,
            "overflow_x": null,
            "overflow_y": null,
            "padding": null,
            "right": null,
            "top": null,
            "visibility": null,
            "width": null
          }
        },
        "b291336239b6445986a9b97c05fa385a": {
          "model_module": "@jupyter-widgets/controls",
          "model_name": "ProgressStyleModel",
          "model_module_version": "1.5.0",
          "state": {
            "_model_module": "@jupyter-widgets/controls",
            "_model_module_version": "1.5.0",
            "_model_name": "ProgressStyleModel",
            "_view_count": null,
            "_view_module": "@jupyter-widgets/base",
            "_view_module_version": "1.2.0",
            "_view_name": "StyleView",
            "bar_color": null,
            "description_width": ""
          }
        },
        "90857b2d89fb48ffbae432586d794af3": {
          "model_module": "@jupyter-widgets/base",
          "model_name": "LayoutModel",
          "model_module_version": "1.2.0",
          "state": {
            "_model_module": "@jupyter-widgets/base",
            "_model_module_version": "1.2.0",
            "_model_name": "LayoutModel",
            "_view_count": null,
            "_view_module": "@jupyter-widgets/base",
            "_view_module_version": "1.2.0",
            "_view_name": "LayoutView",
            "align_content": null,
            "align_items": null,
            "align_self": null,
            "border": null,
            "bottom": null,
            "display": null,
            "flex": null,
            "flex_flow": null,
            "grid_area": null,
            "grid_auto_columns": null,
            "grid_auto_flow": null,
            "grid_auto_rows": null,
            "grid_column": null,
            "grid_gap": null,
            "grid_row": null,
            "grid_template_areas": null,
            "grid_template_columns": null,
            "grid_template_rows": null,
            "height": null,
            "justify_content": null,
            "justify_items": null,
            "left": null,
            "margin": null,
            "max_height": null,
            "max_width": null,
            "min_height": null,
            "min_width": null,
            "object_fit": null,
            "object_position": null,
            "order": null,
            "overflow": null,
            "overflow_x": null,
            "overflow_y": null,
            "padding": null,
            "right": null,
            "top": null,
            "visibility": null,
            "width": null
          }
        },
        "64f4f4e136fd442f897e1c7ea6983eeb": {
          "model_module": "@jupyter-widgets/controls",
          "model_name": "DescriptionStyleModel",
          "model_module_version": "1.5.0",
          "state": {
            "_model_module": "@jupyter-widgets/controls",
            "_model_module_version": "1.5.0",
            "_model_name": "DescriptionStyleModel",
            "_view_count": null,
            "_view_module": "@jupyter-widgets/base",
            "_view_module_version": "1.2.0",
            "_view_name": "StyleView",
            "description_width": ""
          }
        },
        "7c5f7ca6d76341569d5cf3c801122415": {
          "model_module": "@jupyter-widgets/controls",
          "model_name": "HBoxModel",
          "model_module_version": "1.5.0",
          "state": {
            "_dom_classes": [],
            "_model_module": "@jupyter-widgets/controls",
            "_model_module_version": "1.5.0",
            "_model_name": "HBoxModel",
            "_view_count": null,
            "_view_module": "@jupyter-widgets/controls",
            "_view_module_version": "1.5.0",
            "_view_name": "HBoxView",
            "box_style": "",
            "children": [
              "IPY_MODEL_9e37f16c9b074324895b9cace24a809a",
              "IPY_MODEL_72dfd91849314f2594a866ae9c5fa896",
              "IPY_MODEL_2dcfa0579c214a258c19786e2eed1715"
            ],
            "layout": "IPY_MODEL_a0d35139a6c343639613c0c0decbd73c"
          }
        },
        "9e37f16c9b074324895b9cace24a809a": {
          "model_module": "@jupyter-widgets/controls",
          "model_name": "HTMLModel",
          "model_module_version": "1.5.0",
          "state": {
            "_dom_classes": [],
            "_model_module": "@jupyter-widgets/controls",
            "_model_module_version": "1.5.0",
            "_model_name": "HTMLModel",
            "_view_count": null,
            "_view_module": "@jupyter-widgets/controls",
            "_view_module_version": "1.5.0",
            "_view_name": "HTMLView",
            "description": "",
            "description_tooltip": null,
            "layout": "IPY_MODEL_e0d04090827342df99f9050d3d66176b",
            "placeholder": "​",
            "style": "IPY_MODEL_eeccd7fde00f429ca1b50a8fd4aa544b",
            "value": "config.json: 100%"
          }
        },
        "72dfd91849314f2594a866ae9c5fa896": {
          "model_module": "@jupyter-widgets/controls",
          "model_name": "FloatProgressModel",
          "model_module_version": "1.5.0",
          "state": {
            "_dom_classes": [],
            "_model_module": "@jupyter-widgets/controls",
            "_model_module_version": "1.5.0",
            "_model_name": "FloatProgressModel",
            "_view_count": null,
            "_view_module": "@jupyter-widgets/controls",
            "_view_module_version": "1.5.0",
            "_view_name": "ProgressView",
            "bar_style": "success",
            "description": "",
            "description_tooltip": null,
            "layout": "IPY_MODEL_3c68fe92f2f24b65bbfbb08f16b59d7c",
            "max": 483,
            "min": 0,
            "orientation": "horizontal",
            "style": "IPY_MODEL_b42f3eb7c610422b8bf5c4bc4382c18e",
            "value": 483
          }
        },
        "2dcfa0579c214a258c19786e2eed1715": {
          "model_module": "@jupyter-widgets/controls",
          "model_name": "HTMLModel",
          "model_module_version": "1.5.0",
          "state": {
            "_dom_classes": [],
            "_model_module": "@jupyter-widgets/controls",
            "_model_module_version": "1.5.0",
            "_model_name": "HTMLModel",
            "_view_count": null,
            "_view_module": "@jupyter-widgets/controls",
            "_view_module_version": "1.5.0",
            "_view_name": "HTMLView",
            "description": "",
            "description_tooltip": null,
            "layout": "IPY_MODEL_cdae83c8bd01443bad67de438669d774",
            "placeholder": "​",
            "style": "IPY_MODEL_0a43a55b61a9472f8e8f37ce177da735",
            "value": " 483/483 [00:00&lt;00:00, 36.1kB/s]"
          }
        },
        "a0d35139a6c343639613c0c0decbd73c": {
          "model_module": "@jupyter-widgets/base",
          "model_name": "LayoutModel",
          "model_module_version": "1.2.0",
          "state": {
            "_model_module": "@jupyter-widgets/base",
            "_model_module_version": "1.2.0",
            "_model_name": "LayoutModel",
            "_view_count": null,
            "_view_module": "@jupyter-widgets/base",
            "_view_module_version": "1.2.0",
            "_view_name": "LayoutView",
            "align_content": null,
            "align_items": null,
            "align_self": null,
            "border": null,
            "bottom": null,
            "display": null,
            "flex": null,
            "flex_flow": null,
            "grid_area": null,
            "grid_auto_columns": null,
            "grid_auto_flow": null,
            "grid_auto_rows": null,
            "grid_column": null,
            "grid_gap": null,
            "grid_row": null,
            "grid_template_areas": null,
            "grid_template_columns": null,
            "grid_template_rows": null,
            "height": null,
            "justify_content": null,
            "justify_items": null,
            "left": null,
            "margin": null,
            "max_height": null,
            "max_width": null,
            "min_height": null,
            "min_width": null,
            "object_fit": null,
            "object_position": null,
            "order": null,
            "overflow": null,
            "overflow_x": null,
            "overflow_y": null,
            "padding": null,
            "right": null,
            "top": null,
            "visibility": null,
            "width": null
          }
        },
        "e0d04090827342df99f9050d3d66176b": {
          "model_module": "@jupyter-widgets/base",
          "model_name": "LayoutModel",
          "model_module_version": "1.2.0",
          "state": {
            "_model_module": "@jupyter-widgets/base",
            "_model_module_version": "1.2.0",
            "_model_name": "LayoutModel",
            "_view_count": null,
            "_view_module": "@jupyter-widgets/base",
            "_view_module_version": "1.2.0",
            "_view_name": "LayoutView",
            "align_content": null,
            "align_items": null,
            "align_self": null,
            "border": null,
            "bottom": null,
            "display": null,
            "flex": null,
            "flex_flow": null,
            "grid_area": null,
            "grid_auto_columns": null,
            "grid_auto_flow": null,
            "grid_auto_rows": null,
            "grid_column": null,
            "grid_gap": null,
            "grid_row": null,
            "grid_template_areas": null,
            "grid_template_columns": null,
            "grid_template_rows": null,
            "height": null,
            "justify_content": null,
            "justify_items": null,
            "left": null,
            "margin": null,
            "max_height": null,
            "max_width": null,
            "min_height": null,
            "min_width": null,
            "object_fit": null,
            "object_position": null,
            "order": null,
            "overflow": null,
            "overflow_x": null,
            "overflow_y": null,
            "padding": null,
            "right": null,
            "top": null,
            "visibility": null,
            "width": null
          }
        },
        "eeccd7fde00f429ca1b50a8fd4aa544b": {
          "model_module": "@jupyter-widgets/controls",
          "model_name": "DescriptionStyleModel",
          "model_module_version": "1.5.0",
          "state": {
            "_model_module": "@jupyter-widgets/controls",
            "_model_module_version": "1.5.0",
            "_model_name": "DescriptionStyleModel",
            "_view_count": null,
            "_view_module": "@jupyter-widgets/base",
            "_view_module_version": "1.2.0",
            "_view_name": "StyleView",
            "description_width": ""
          }
        },
        "3c68fe92f2f24b65bbfbb08f16b59d7c": {
          "model_module": "@jupyter-widgets/base",
          "model_name": "LayoutModel",
          "model_module_version": "1.2.0",
          "state": {
            "_model_module": "@jupyter-widgets/base",
            "_model_module_version": "1.2.0",
            "_model_name": "LayoutModel",
            "_view_count": null,
            "_view_module": "@jupyter-widgets/base",
            "_view_module_version": "1.2.0",
            "_view_name": "LayoutView",
            "align_content": null,
            "align_items": null,
            "align_self": null,
            "border": null,
            "bottom": null,
            "display": null,
            "flex": null,
            "flex_flow": null,
            "grid_area": null,
            "grid_auto_columns": null,
            "grid_auto_flow": null,
            "grid_auto_rows": null,
            "grid_column": null,
            "grid_gap": null,
            "grid_row": null,
            "grid_template_areas": null,
            "grid_template_columns": null,
            "grid_template_rows": null,
            "height": null,
            "justify_content": null,
            "justify_items": null,
            "left": null,
            "margin": null,
            "max_height": null,
            "max_width": null,
            "min_height": null,
            "min_width": null,
            "object_fit": null,
            "object_position": null,
            "order": null,
            "overflow": null,
            "overflow_x": null,
            "overflow_y": null,
            "padding": null,
            "right": null,
            "top": null,
            "visibility": null,
            "width": null
          }
        },
        "b42f3eb7c610422b8bf5c4bc4382c18e": {
          "model_module": "@jupyter-widgets/controls",
          "model_name": "ProgressStyleModel",
          "model_module_version": "1.5.0",
          "state": {
            "_model_module": "@jupyter-widgets/controls",
            "_model_module_version": "1.5.0",
            "_model_name": "ProgressStyleModel",
            "_view_count": null,
            "_view_module": "@jupyter-widgets/base",
            "_view_module_version": "1.2.0",
            "_view_name": "StyleView",
            "bar_color": null,
            "description_width": ""
          }
        },
        "cdae83c8bd01443bad67de438669d774": {
          "model_module": "@jupyter-widgets/base",
          "model_name": "LayoutModel",
          "model_module_version": "1.2.0",
          "state": {
            "_model_module": "@jupyter-widgets/base",
            "_model_module_version": "1.2.0",
            "_model_name": "LayoutModel",
            "_view_count": null,
            "_view_module": "@jupyter-widgets/base",
            "_view_module_version": "1.2.0",
            "_view_name": "LayoutView",
            "align_content": null,
            "align_items": null,
            "align_self": null,
            "border": null,
            "bottom": null,
            "display": null,
            "flex": null,
            "flex_flow": null,
            "grid_area": null,
            "grid_auto_columns": null,
            "grid_auto_flow": null,
            "grid_auto_rows": null,
            "grid_column": null,
            "grid_gap": null,
            "grid_row": null,
            "grid_template_areas": null,
            "grid_template_columns": null,
            "grid_template_rows": null,
            "height": null,
            "justify_content": null,
            "justify_items": null,
            "left": null,
            "margin": null,
            "max_height": null,
            "max_width": null,
            "min_height": null,
            "min_width": null,
            "object_fit": null,
            "object_position": null,
            "order": null,
            "overflow": null,
            "overflow_x": null,
            "overflow_y": null,
            "padding": null,
            "right": null,
            "top": null,
            "visibility": null,
            "width": null
          }
        },
        "0a43a55b61a9472f8e8f37ce177da735": {
          "model_module": "@jupyter-widgets/controls",
          "model_name": "DescriptionStyleModel",
          "model_module_version": "1.5.0",
          "state": {
            "_model_module": "@jupyter-widgets/controls",
            "_model_module_version": "1.5.0",
            "_model_name": "DescriptionStyleModel",
            "_view_count": null,
            "_view_module": "@jupyter-widgets/base",
            "_view_module_version": "1.2.0",
            "_view_name": "StyleView",
            "description_width": ""
          }
        },
        "cb65f13030f74767b1063307174fafed": {
          "model_module": "@jupyter-widgets/controls",
          "model_name": "HBoxModel",
          "model_module_version": "1.5.0",
          "state": {
            "_dom_classes": [],
            "_model_module": "@jupyter-widgets/controls",
            "_model_module_version": "1.5.0",
            "_model_name": "HBoxModel",
            "_view_count": null,
            "_view_module": "@jupyter-widgets/controls",
            "_view_module_version": "1.5.0",
            "_view_name": "HBoxView",
            "box_style": "",
            "children": [
              "IPY_MODEL_a0334b79e7504515aa2e28b3f53f28ff",
              "IPY_MODEL_b4ab773a87c2439090b30c1730735f3e",
              "IPY_MODEL_a95f5c65697f400098a0090b075401bb"
            ],
            "layout": "IPY_MODEL_5e85c29a96614831a6a5d246c941cf43"
          }
        },
        "a0334b79e7504515aa2e28b3f53f28ff": {
          "model_module": "@jupyter-widgets/controls",
          "model_name": "HTMLModel",
          "model_module_version": "1.5.0",
          "state": {
            "_dom_classes": [],
            "_model_module": "@jupyter-widgets/controls",
            "_model_module_version": "1.5.0",
            "_model_name": "HTMLModel",
            "_view_count": null,
            "_view_module": "@jupyter-widgets/controls",
            "_view_module_version": "1.5.0",
            "_view_name": "HTMLView",
            "description": "",
            "description_tooltip": null,
            "layout": "IPY_MODEL_5a659353b9c54abd9716b2b23bad9edf",
            "placeholder": "​",
            "style": "IPY_MODEL_d3cb525c83dc41b3a37986ad08ae8915",
            "value": "model.safetensors: 100%"
          }
        },
        "b4ab773a87c2439090b30c1730735f3e": {
          "model_module": "@jupyter-widgets/controls",
          "model_name": "FloatProgressModel",
          "model_module_version": "1.5.0",
          "state": {
            "_dom_classes": [],
            "_model_module": "@jupyter-widgets/controls",
            "_model_module_version": "1.5.0",
            "_model_name": "FloatProgressModel",
            "_view_count": null,
            "_view_module": "@jupyter-widgets/controls",
            "_view_module_version": "1.5.0",
            "_view_name": "ProgressView",
            "bar_style": "success",
            "description": "",
            "description_tooltip": null,
            "layout": "IPY_MODEL_bc27495ab8a948edbcf9aa7f8d8a0f3c",
            "max": 267954768,
            "min": 0,
            "orientation": "horizontal",
            "style": "IPY_MODEL_d738155d8d88451299fd62ddf7b685f3",
            "value": 267954768
          }
        },
        "a95f5c65697f400098a0090b075401bb": {
          "model_module": "@jupyter-widgets/controls",
          "model_name": "HTMLModel",
          "model_module_version": "1.5.0",
          "state": {
            "_dom_classes": [],
            "_model_module": "@jupyter-widgets/controls",
            "_model_module_version": "1.5.0",
            "_model_name": "HTMLModel",
            "_view_count": null,
            "_view_module": "@jupyter-widgets/controls",
            "_view_module_version": "1.5.0",
            "_view_name": "HTMLView",
            "description": "",
            "description_tooltip": null,
            "layout": "IPY_MODEL_012151245adf404ab993f934793f69e6",
            "placeholder": "​",
            "style": "IPY_MODEL_a78461ed309246fc8553be330b44185e",
            "value": " 268M/268M [00:01&lt;00:00, 183MB/s]"
          }
        },
        "5e85c29a96614831a6a5d246c941cf43": {
          "model_module": "@jupyter-widgets/base",
          "model_name": "LayoutModel",
          "model_module_version": "1.2.0",
          "state": {
            "_model_module": "@jupyter-widgets/base",
            "_model_module_version": "1.2.0",
            "_model_name": "LayoutModel",
            "_view_count": null,
            "_view_module": "@jupyter-widgets/base",
            "_view_module_version": "1.2.0",
            "_view_name": "LayoutView",
            "align_content": null,
            "align_items": null,
            "align_self": null,
            "border": null,
            "bottom": null,
            "display": null,
            "flex": null,
            "flex_flow": null,
            "grid_area": null,
            "grid_auto_columns": null,
            "grid_auto_flow": null,
            "grid_auto_rows": null,
            "grid_column": null,
            "grid_gap": null,
            "grid_row": null,
            "grid_template_areas": null,
            "grid_template_columns": null,
            "grid_template_rows": null,
            "height": null,
            "justify_content": null,
            "justify_items": null,
            "left": null,
            "margin": null,
            "max_height": null,
            "max_width": null,
            "min_height": null,
            "min_width": null,
            "object_fit": null,
            "object_position": null,
            "order": null,
            "overflow": null,
            "overflow_x": null,
            "overflow_y": null,
            "padding": null,
            "right": null,
            "top": null,
            "visibility": null,
            "width": null
          }
        },
        "5a659353b9c54abd9716b2b23bad9edf": {
          "model_module": "@jupyter-widgets/base",
          "model_name": "LayoutModel",
          "model_module_version": "1.2.0",
          "state": {
            "_model_module": "@jupyter-widgets/base",
            "_model_module_version": "1.2.0",
            "_model_name": "LayoutModel",
            "_view_count": null,
            "_view_module": "@jupyter-widgets/base",
            "_view_module_version": "1.2.0",
            "_view_name": "LayoutView",
            "align_content": null,
            "align_items": null,
            "align_self": null,
            "border": null,
            "bottom": null,
            "display": null,
            "flex": null,
            "flex_flow": null,
            "grid_area": null,
            "grid_auto_columns": null,
            "grid_auto_flow": null,
            "grid_auto_rows": null,
            "grid_column": null,
            "grid_gap": null,
            "grid_row": null,
            "grid_template_areas": null,
            "grid_template_columns": null,
            "grid_template_rows": null,
            "height": null,
            "justify_content": null,
            "justify_items": null,
            "left": null,
            "margin": null,
            "max_height": null,
            "max_width": null,
            "min_height": null,
            "min_width": null,
            "object_fit": null,
            "object_position": null,
            "order": null,
            "overflow": null,
            "overflow_x": null,
            "overflow_y": null,
            "padding": null,
            "right": null,
            "top": null,
            "visibility": null,
            "width": null
          }
        },
        "d3cb525c83dc41b3a37986ad08ae8915": {
          "model_module": "@jupyter-widgets/controls",
          "model_name": "DescriptionStyleModel",
          "model_module_version": "1.5.0",
          "state": {
            "_model_module": "@jupyter-widgets/controls",
            "_model_module_version": "1.5.0",
            "_model_name": "DescriptionStyleModel",
            "_view_count": null,
            "_view_module": "@jupyter-widgets/base",
            "_view_module_version": "1.2.0",
            "_view_name": "StyleView",
            "description_width": ""
          }
        },
        "bc27495ab8a948edbcf9aa7f8d8a0f3c": {
          "model_module": "@jupyter-widgets/base",
          "model_name": "LayoutModel",
          "model_module_version": "1.2.0",
          "state": {
            "_model_module": "@jupyter-widgets/base",
            "_model_module_version": "1.2.0",
            "_model_name": "LayoutModel",
            "_view_count": null,
            "_view_module": "@jupyter-widgets/base",
            "_view_module_version": "1.2.0",
            "_view_name": "LayoutView",
            "align_content": null,
            "align_items": null,
            "align_self": null,
            "border": null,
            "bottom": null,
            "display": null,
            "flex": null,
            "flex_flow": null,
            "grid_area": null,
            "grid_auto_columns": null,
            "grid_auto_flow": null,
            "grid_auto_rows": null,
            "grid_column": null,
            "grid_gap": null,
            "grid_row": null,
            "grid_template_areas": null,
            "grid_template_columns": null,
            "grid_template_rows": null,
            "height": null,
            "justify_content": null,
            "justify_items": null,
            "left": null,
            "margin": null,
            "max_height": null,
            "max_width": null,
            "min_height": null,
            "min_width": null,
            "object_fit": null,
            "object_position": null,
            "order": null,
            "overflow": null,
            "overflow_x": null,
            "overflow_y": null,
            "padding": null,
            "right": null,
            "top": null,
            "visibility": null,
            "width": null
          }
        },
        "d738155d8d88451299fd62ddf7b685f3": {
          "model_module": "@jupyter-widgets/controls",
          "model_name": "ProgressStyleModel",
          "model_module_version": "1.5.0",
          "state": {
            "_model_module": "@jupyter-widgets/controls",
            "_model_module_version": "1.5.0",
            "_model_name": "ProgressStyleModel",
            "_view_count": null,
            "_view_module": "@jupyter-widgets/base",
            "_view_module_version": "1.2.0",
            "_view_name": "StyleView",
            "bar_color": null,
            "description_width": ""
          }
        },
        "012151245adf404ab993f934793f69e6": {
          "model_module": "@jupyter-widgets/base",
          "model_name": "LayoutModel",
          "model_module_version": "1.2.0",
          "state": {
            "_model_module": "@jupyter-widgets/base",
            "_model_module_version": "1.2.0",
            "_model_name": "LayoutModel",
            "_view_count": null,
            "_view_module": "@jupyter-widgets/base",
            "_view_module_version": "1.2.0",
            "_view_name": "LayoutView",
            "align_content": null,
            "align_items": null,
            "align_self": null,
            "border": null,
            "bottom": null,
            "display": null,
            "flex": null,
            "flex_flow": null,
            "grid_area": null,
            "grid_auto_columns": null,
            "grid_auto_flow": null,
            "grid_auto_rows": null,
            "grid_column": null,
            "grid_gap": null,
            "grid_row": null,
            "grid_template_areas": null,
            "grid_template_columns": null,
            "grid_template_rows": null,
            "height": null,
            "justify_content": null,
            "justify_items": null,
            "left": null,
            "margin": null,
            "max_height": null,
            "max_width": null,
            "min_height": null,
            "min_width": null,
            "object_fit": null,
            "object_position": null,
            "order": null,
            "overflow": null,
            "overflow_x": null,
            "overflow_y": null,
            "padding": null,
            "right": null,
            "top": null,
            "visibility": null,
            "width": null
          }
        },
        "a78461ed309246fc8553be330b44185e": {
          "model_module": "@jupyter-widgets/controls",
          "model_name": "DescriptionStyleModel",
          "model_module_version": "1.5.0",
          "state": {
            "_model_module": "@jupyter-widgets/controls",
            "_model_module_version": "1.5.0",
            "_model_name": "DescriptionStyleModel",
            "_view_count": null,
            "_view_module": "@jupyter-widgets/base",
            "_view_module_version": "1.2.0",
            "_view_name": "StyleView",
            "description_width": ""
          }
        }
      }
    }
  },
  "nbformat": 4,
  "nbformat_minor": 5
}